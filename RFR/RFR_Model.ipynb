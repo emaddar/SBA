{
 "cells": [
  {
   "cell_type": "markdown",
   "metadata": {},
   "source": [
    "# Importer les packages"
   ]
  },
  {
   "cell_type": "code",
   "execution_count": 1,
   "metadata": {},
   "outputs": [],
   "source": [
    "import pandas as pd\n",
    "import matplotlib.pyplot as plt\n",
    "import sweetviz as sv\n",
    "import missingno as msno\n",
    "import time \n",
    "import sys\n",
    "import os\n",
    "import csv\n",
    "from bs4 import BeautifulSoup\n",
    "import requests\n",
    "import re\n",
    "\n",
    "from sklearn.compose import make_column_selector, ColumnTransformer, make_column_transformer\n",
    "# sklearn.compose: The sklearn.compose module is a submodule of the sklearn library for machine learning in Python. It provides functions for creating complex preprocessing and modeling pipelines.\n",
    "from sklearn.preprocessing import OneHotEncoder,StandardScaler,PolynomialFeatures,RobustScaler\n",
    "#sklearn.preprocessing: The sklearn.preprocessing module is a submodule of the sklearn library that provides functions for preprocessing data, such as scaling and normalizing features, imputing missing values, and encoding categorical variables.\n",
    "from sklearn.linear_model import Ridge,LinearRegression,Lasso, ElasticNet\n",
    "# sklearn.linear_model: The sklearn.linear_model module is a submodule of the sklearn library that provides functions for fitting linear models for regression and classification.\n",
    "from sklearn.pipeline import make_pipeline\n",
    "# sklearn.pipeline: The sklearn.pipeline module is a submodule of the sklearn library that provides functions for creating and working with pipelines of transformers and models.\n",
    "from sklearn.model_selection import train_test_split,GridSearchCV,learning_curve, RandomizedSearchCV, cross_val_score, KFold\n",
    "# sklearn.model_selection: The sklearn.model_selection module is a submodule of the sklearn library that provides functions for splitting data into training and test sets, evaluating models using cross-validation, and hyperparameter tuning.\n",
    "from sklearn.dummy import DummyRegressor\n",
    "# sklearn.dummy: The sklearn.dummy module is a submodule of the sklearn library that provides simple dummy models for regression and classification.\n",
    "\n",
    "\n",
    "from sklearn.impute import SimpleImputer\n",
    "import numpy as np\n",
    "\n",
    "from sklearn.ensemble import RandomForestClassifier\n",
    "import pickle\n"
   ]
  },
  {
   "cell_type": "code",
   "execution_count": 6,
   "metadata": {},
   "outputs": [
    {
     "name": "stdout",
     "output_type": "stream",
     "text": [
      "# packages in environment at /home/apprenant/miniconda3:\n",
      "#\n",
      "# Name                    Version                   Build  Channel\n",
      "_libgcc_mutex             0.1                        main  \n",
      "_openmp_mutex             4.5                       1_gnu  \n",
      "altair                    4.2.0                    pypi_0    pypi\n",
      "anyio                     3.6.2                    pypi_0    pypi\n",
      "asgiref                   3.5.2                    pypi_0    pypi\n",
      "attrs                     22.1.0                   pypi_0    pypi\n",
      "beautifulsoup4            4.11.1                   pypi_0    pypi\n",
      "blinker                   1.5                      pypi_0    pypi\n",
      "branca                    0.6.0                    pypi_0    pypi\n",
      "brotlipy                  0.7.0           py39h27cfd23_1003  \n",
      "ca-certificates           2022.3.29            h06a4308_1  \n",
      "cachetools                5.2.0                    pypi_0    pypi\n",
      "certifi                   2021.10.8        py39h06a4308_2  \n",
      "cffi                      1.15.0           py39hd667e15_1  \n",
      "chardet                   4.0.0                    pypi_0    pypi\n",
      "charset-normalizer        2.0.4              pyhd3eb1b0_0  \n",
      "click                     8.1.3                    pypi_0    pypi\n",
      "colorama                  0.4.4              pyhd3eb1b0_0  \n",
      "commonmark                0.9.1                    pypi_0    pypi\n",
      "conda                     4.12.0           py39h06a4308_0  \n",
      "conda-content-trust       0.1.1              pyhd3eb1b0_0  \n",
      "conda-package-handling    1.8.1            py39h7f8727e_0  \n",
      "cryptography              36.0.0           py39h9ce1e76_0  \n",
      "cycler                    0.11.0                   pypi_0    pypi\n",
      "decorator                 5.1.1                    pypi_0    pypi\n",
      "django                    4.1                      pypi_0    pypi\n",
      "docopt                    0.6.2                    pypi_0    pypi\n",
      "entrypoints               0.4                      pypi_0    pypi\n",
      "fastapi                   0.89.1                   pypi_0    pypi\n",
      "filelock                  3.8.0                    pypi_0    pypi\n",
      "folium                    0.13.0                   pypi_0    pypi\n",
      "fonttools                 4.38.0                   pypi_0    pypi\n",
      "gitdb                     4.0.10                   pypi_0    pypi\n",
      "gitpython                 3.1.29                   pypi_0    pypi\n",
      "h11                       0.14.0                   pypi_0    pypi\n",
      "idna                      2.10                     pypi_0    pypi\n",
      "importlib-metadata        5.2.0                    pypi_0    pypi\n",
      "importlib-resources       5.10.1                   pypi_0    pypi\n",
      "jinja2                    3.1.2                    pypi_0    pypi\n",
      "joblib                    1.2.0                    pypi_0    pypi\n",
      "jsonschema                4.17.3                   pypi_0    pypi\n",
      "kiwisolver                1.4.4                    pypi_0    pypi\n",
      "langid                    1.1.6                    pypi_0    pypi\n",
      "ld_impl_linux-64          2.35.1               h7274673_9  \n",
      "libffi                    3.3                  he6710b0_2  \n",
      "libgcc-ng                 9.3.0               h5101ec6_17  \n",
      "libgomp                   9.3.0               h5101ec6_17  \n",
      "libstdcxx-ng              9.3.0               hd4cf53a_17  \n",
      "lxml                      4.9.1                    pypi_0    pypi\n",
      "markupsafe                2.1.1                    pypi_0    pypi\n",
      "matplotlib                3.5.1                    pypi_0    pypi\n",
      "missingno                 0.5.1                    pypi_0    pypi\n",
      "ncurses                   6.3                  h7f8727e_2  \n",
      "numpy                     1.23.3                   pypi_0    pypi\n",
      "openssl                   1.1.1n               h7f8727e_0  \n",
      "packaging                 21.3                     pypi_0    pypi\n",
      "pandas                    1.5.0                    pypi_0    pypi\n",
      "patsy                     0.5.3                    pypi_0    pypi\n",
      "pillow                    9.2.0                    pypi_0    pypi\n",
      "pip                       21.2.4           py39h06a4308_0  \n",
      "pipreqs                   0.4.11                   pypi_0    pypi\n",
      "protobuf                  3.20.3                   pypi_0    pypi\n",
      "pyarrow                   10.0.1                   pypi_0    pypi\n",
      "pycosat                   0.6.3            py39h27cfd23_0  \n",
      "pycparser                 2.21               pyhd3eb1b0_0  \n",
      "pydantic                  1.10.4                   pypi_0    pypi\n",
      "pydeck                    0.8.0                    pypi_0    pypi\n",
      "pygments                  2.13.0                   pypi_0    pypi\n",
      "pympler                   1.0.1                    pypi_0    pypi\n",
      "pyopenssl                 22.0.0             pyhd3eb1b0_0  \n",
      "pyparsing                 3.0.9                    pypi_0    pypi\n",
      "pyrsistent                0.19.2                   pypi_0    pypi\n",
      "pysocks                   1.7.1            py39h06a4308_0  \n",
      "python                    3.9.12               h12debd9_0  \n",
      "python-dateutil           2.8.2                    pypi_0    pypi\n",
      "python-dotenv             0.21.0                   pypi_0    pypi\n",
      "pytz                      2022.6                   pypi_0    pypi\n",
      "pytz-deprecation-shim     0.1.0.post0              pypi_0    pypi\n",
      "readline                  8.1.2                h7f8727e_1  \n",
      "requests                  2.25.1                   pypi_0    pypi\n",
      "rich                      12.6.0                   pypi_0    pypi\n",
      "ruamel_yaml               0.15.100         py39h27cfd23_0  \n",
      "scikit-learn              1.2.0                    pypi_0    pypi\n",
      "scipy                     1.9.3                    pypi_0    pypi\n",
      "seaborn                   0.12.1                   pypi_0    pypi\n",
      "semver                    2.13.0                   pypi_0    pypi\n",
      "setuptools                61.2.0           py39h06a4308_0  \n",
      "sidetable                 0.9.1                    pypi_0    pypi\n",
      "six                       1.16.0             pyhd3eb1b0_1  \n",
      "smmap                     5.0.0                    pypi_0    pypi\n",
      "sniffio                   1.3.0                    pypi_0    pypi\n",
      "snscrape                  0.4.3.20220106           pypi_0    pypi\n",
      "soupsieve                 2.3.2.post1              pypi_0    pypi\n",
      "sqlite                    3.38.2               hc218d9a_0  \n",
      "sqlparse                  0.4.3                    pypi_0    pypi\n",
      "starlette                 0.22.0                   pypi_0    pypi\n",
      "statsmodels               0.13.5                   pypi_0    pypi\n",
      "stop-words                2018.7.23                pypi_0    pypi\n",
      "streamlit                 1.16.0                   pypi_0    pypi\n",
      "streamlit-folium          0.8.1                    pypi_0    pypi\n",
      "sweetviz                  2.1.4                    pypi_0    pypi\n",
      "threadpoolctl             3.1.0                    pypi_0    pypi\n",
      "tk                        8.6.11               h1ccaba5_0  \n",
      "toml                      0.10.2                   pypi_0    pypi\n",
      "toolz                     0.12.0                   pypi_0    pypi\n",
      "tornado                   6.2                      pypi_0    pypi\n",
      "tqdm                      4.63.0             pyhd3eb1b0_0  \n",
      "typing-extensions         4.4.0                    pypi_0    pypi\n",
      "tzdata                    2022.7                   pypi_0    pypi\n",
      "tzlocal                   4.2                      pypi_0    pypi\n",
      "urllib3                   1.26.8             pyhd3eb1b0_0  \n",
      "uvicorn                   0.20.0                   pypi_0    pypi\n",
      "validators                0.20.0                   pypi_0    pypi\n",
      "watchdog                  2.2.0                    pypi_0    pypi\n",
      "wheel                     0.37.1             pyhd3eb1b0_0  \n",
      "wordcloud                 1.8.1                    pypi_0    pypi\n",
      "xgboost                   1.7.3                    pypi_0    pypi\n",
      "xz                        5.2.5                h7b6447c_0  \n",
      "yaml                      0.2.5                h7b6447c_0  \n",
      "yarg                      0.1.9                    pypi_0    pypi\n",
      "zipp                      3.11.0                   pypi_0    pypi\n",
      "zlib                      1.2.12               h7f8727e_1  \n"
     ]
    }
   ],
   "source": [
    "!conda list"
   ]
  },
  {
   "cell_type": "markdown",
   "metadata": {},
   "source": [
    "# Lire les données"
   ]
  },
  {
   "cell_type": "code",
   "execution_count": 2,
   "metadata": {},
   "outputs": [
    {
     "name": "stderr",
     "output_type": "stream",
     "text": [
      "/tmp/ipykernel_51435/1292895530.py:2: DtypeWarning: Columns (9) have mixed types. Specify dtype option on import or set low_memory=False.\n",
      "  df = pd.read_csv('/home/apprenant/Documents/archive/SBAnational.csv')\n"
     ]
    }
   ],
   "source": [
    "try:\n",
    "    df = pd.read_csv('/home/apprenant/Documents/archive/SBAnational.csv')\n",
    "except:\n",
    "    df = pd.read_csv('C:/Users/emada/Downloads/loan_project (1)/SBAnational.csv')\n",
    "\n",
    "df['ApprovalFY'] = df['ApprovalFY'].replace('A', '', regex=True).astype(int)"
   ]
  },
  {
   "cell_type": "markdown",
   "metadata": {},
   "source": [
    "# Nettoyage des données"
   ]
  },
  {
   "cell_type": "code",
   "execution_count": 3,
   "metadata": {},
   "outputs": [
    {
     "name": "stderr",
     "output_type": "stream",
     "text": [
      "/tmp/ipykernel_51435/2495417656.py:6: FutureWarning: The default value of regex will change from True to False in a future version. In addition, single character regular expressions will *not* be treated as literal strings when regex=True.\n",
      "  df[col] = df[col].str.replace(\"$\", \"\")\n"
     ]
    }
   ],
   "source": [
    "# create a list of all numeric columns\n",
    "columns_to_transform_to_int = [\"DisbursementGross\",\"BalanceGross\",\"ChgOffPrinGr\",\"GrAppv\",\"SBA_Appv\"]\n",
    "\n",
    "\n",
    "for col in columns_to_transform_to_int:\n",
    "    df[col] = df[col].str.replace(\"$\", \"\")\n",
    "    df[col] = df[col].str.replace(\",\", \"\")\n",
    "    df[col] = df[col].astype(float)\n",
    "    \n",
    "\n",
    "df['Term'] = df['Term'].astype(int)\n",
    "\n",
    "df['LowDoc'] = df['LowDoc'].replace({'0': 'N'})\n",
    "df = df[df['LowDoc'].isin(['N','Y'])]\n",
    "df['RevLineCr'] = df['RevLineCr'].replace({'0': 'N', 'T':'Y'})\n",
    "df = df[df['RevLineCr'].isin(['N','Y'])]\n",
    "\n",
    "dictionnaire =  {\"11\":\"Agriculture, forestry, fishing and hunting\",\"72\":\"Accommodation and food services\",\"21\":\"Mining, quarrying, and oil and gas extraction\",\"22\":\n",
    "\"Utilities\",\"23\":\"Construction\",\"31\":\"Manufacturing\",\"32\":\"Manufacturing\",\"33\":\"Manufacturing\",\"42\":\"Wholesale trade\",\"44\":\"Retail trade\",\"45\":\"Retail trade\",\"48\":\" Transportation and warehousing\", \"49\":\"Transportation and warehousing\", \"51\":\"Information\",\"52\":\"Finance and insurance\", \"53\":\"Real estate and rental and leasing\",\"54\":\"Professional, scientific, and technical services\",\"55\":\"Management of companies and enterprises\",\"56\":\"Administrative and support and waste management and remediation services\",\"61\":\"Educational services\",\"62\":\"Health care and social assistance\",\"71\":\"Arts, entertainment, and recreation\",\"81\":\"Other services (except public administration)\", \"92\": \"Public administration\", \"0\" : \"Other\"}\n",
    "\n",
    "df['NAICS'] = df['NAICS'].astype(str).str[:2]\n",
    "\n",
    "df[\"NAICS\"] = df[\"NAICS\"].map(dictionnaire)\n",
    "\n",
    "cols_to_drop = ['LoanNr_ChkDgt', 'Name', 'City', 'Zip', 'Bank', 'BankState', 'ApprovalDate', 'RetainedJob','ChgOffDate', 'DisbursementDate', 'DisbursementGross', 'BalanceGross', 'SBA_Appv', 'ChgOffPrinGr']\n",
    "df_cleaned = df.copy()\n",
    "df_cleaned.drop(columns=cols_to_drop, inplace=True)\n",
    "\n",
    "df_cleaned.dropna(subset=['MIS_Status'], inplace=True)\n"
   ]
  },
  {
   "cell_type": "markdown",
   "metadata": {},
   "source": [
    "# Préparation à la modélisation"
   ]
  },
  {
   "cell_type": "code",
   "execution_count": 4,
   "metadata": {},
   "outputs": [],
   "source": [
    "y = df_cleaned.MIS_Status\n",
    "X = df_cleaned.drop(columns=['MIS_Status'])"
   ]
  },
  {
   "cell_type": "markdown",
   "metadata": {},
   "source": [
    "# Pipeline"
   ]
  },
  {
   "cell_type": "code",
   "execution_count": 5,
   "metadata": {},
   "outputs": [],
   "source": [
    "def make_pipeline_to_ML(X,y):\n",
    "    X_train, X_test, y_train, y_test = train_test_split(X, y, shuffle=True, train_size=0.8, random_state=42)\n",
    "    numerical_features = make_column_selector(dtype_include=np.number)\n",
    "    categorical_features = make_column_selector(dtype_exclude= np.number)\n",
    "    numerical_pipeline = make_pipeline(SimpleImputer(strategy='mean'),StandardScaler(with_mean=False))\n",
    "    categorical_pipeline = make_pipeline(SimpleImputer(strategy='most_frequent'),OneHotEncoder(handle_unknown='ignore'))\n",
    "    preprocessor = make_column_transformer((numerical_pipeline, numerical_features),\n",
    "                                    (categorical_pipeline, categorical_features)\n",
    "                                    )\n",
    "    return preprocessor, X_train, X_test, y_train, y_test\n",
    "\n",
    "\n",
    "# Create the pipeline\n",
    "preprocessor, X_train, X_test, y_train, y_test = make_pipeline_to_ML(X,y)"
   ]
  },
  {
   "cell_type": "markdown",
   "metadata": {},
   "source": [
    "# RandomForest\n",
    "![forest](https://thumbs.gfycat.com/UncomfortableWelllitDrever-size_restricted.gif)"
   ]
  },
  {
   "cell_type": "markdown",
   "metadata": {},
   "source": [
    "# Rechercher les meilleurs paramètres"
   ]
  },
  {
   "cell_type": "code",
   "execution_count": null,
   "metadata": {},
   "outputs": [],
   "source": [
    "from sklearn.ensemble import RandomForestClassifier\n",
    "\n",
    "# Define the parameter grid\n",
    "param_grid = {'randomforestclassifier__n_estimators': np.linspace(100, 250, 10, dtype=int), 'randomforestclassifier__max_depth': np.linspace(1, 10, 5, dtype=int)}\n",
    "\n",
    "# Create a random forest classifier object\n",
    "clf = make_pipeline(preprocessor, RandomForestClassifier(class_weight='balanced', n_jobs=-1, verbose=5))\n",
    "\n",
    "# Create the randomized search object\n",
    "random_search = RandomizedSearchCV(clf, param_grid, n_iter=10, cv=5, random_state=42, n_jobs=-1, verbose=5)\n",
    "\n",
    "# Fit the randomized search to the data\n",
    "random_search.fit(X, y)\n",
    "\n",
    "# Print the best parameters and the best score\n",
    "print(\"Best parameters: \", random_search.best_params_)\n",
    "print(\"Best score: \", random_search.best_score_)"
   ]
  },
  {
   "cell_type": "code",
   "execution_count": 1,
   "metadata": {},
   "outputs": [
    {
     "data": {
      "image/png": "[encoded data removed]",
      "text/plain": [
       "<Figure size 432x288 with 1 Axes>"
      ]
     },
     "metadata": {
      "needs_background": "light"
     },
     "output_type": "display_data"
    }
   ],
   "source": [
    "score_list = [0.7963798102637728,\n",
    " 0.8171832333980801,\n",
    " 0.8359203896067336,\n",
    " 0.8322382681642879,\n",
    " 0.8405427469526785,\n",
    " 0.8403907327646877,\n",
    " 0.8409087070348789,\n",
    " 0.8423894378290122,\n",
    "0.8429580834952003,\n",
    "0.8428454803929848\n",
    "]\n",
    "n_estimators_list = [5,10,30,50,70,100,150,200, 250,300]\n",
    "\n",
    "import matplotlib.pyplot as plt\n",
    "\n",
    "plt.plot(n_estimators_list, score_list)\n",
    "plt.xlabel(\"n_estimators\")\n",
    "plt.ylabel(\"Accuracy Score\")\n",
    "plt.show()"
   ]
  },
  {
   "cell_type": "code",
   "execution_count": 2,
   "metadata": {},
   "outputs": [
    {
     "data": {
      "image/png": "[encoded data removed]",
      "text/plain": [
       "<Figure size 432x288 with 1 Axes>"
      ]
     },
     "metadata": {
      "needs_background": "light"
     },
     "output_type": "display_data"
    }
   ],
   "source": [
    "score_list = [0.8434310165245053,\n",
    " 0.8434310165245053,\n",
    " 0.8434310165245053,\n",
    " 0.8457562705852546,\n",
    " 0.8454353517439406,\n",
    " 0.845598626242153,\n",
    " 0.8433240435774005\n",
    "]\n",
    "min_samples_split = [1000,3000,4000,5000,6000,7000,9000]\n",
    "\n",
    "import matplotlib.pyplot as plt\n",
    "\n",
    "plt.plot(min_samples_split, score_list)\n",
    "plt.xlabel(\"Number of Split\")\n",
    "plt.ylabel(\"Accuracy Score\")\n",
    "plt.show()"
   ]
  },
  {
   "cell_type": "code",
   "execution_count": 3,
   "metadata": {},
   "outputs": [
    {
     "data": {
      "image/png": "[encoded data removed]",
      "text/plain": [
       "<Figure size 432x288 with 1 Axes>"
      ]
     },
     "metadata": {
      "needs_background": "light"
     },
     "output_type": "display_data"
    }
   ],
   "source": [
    "score_list = [0.8477718661149115,\n",
    "    0.8482729499197703,\n",
    "    0.8474396869633758,\n",
    "    0.8458745038425809,\n",
    "    0.8460321481856825,0.8457562705852546,0.842642794808997,0.8416012161135039\n",
    "]\n",
    "min_samples_leaf = [500,700,800,900, 1000,2000,3000,4000]\n",
    "\n",
    "import matplotlib.pyplot as plt\n",
    "\n",
    "plt.plot(min_samples_leaf, score_list)\n",
    "plt.xlabel(\"Number of Leafs\")\n",
    "plt.ylabel(\"Accuracy Score\")\n",
    "plt.show()"
   ]
  },
  {
   "cell_type": "markdown",
   "metadata": {},
   "source": [
    "# Application de nos meilleurs paramètres"
   ]
  },
  {
   "cell_type": "code",
   "execution_count": 7,
   "metadata": {},
   "outputs": [
    {
     "data": {
      "text/html": [
       "<style>#sk-container-id-1 {color: black;background-color: white;}#sk-container-id-1 pre{padding: 0;}#sk-container-id-1 div.sk-toggleable {background-color: white;}#sk-container-id-1 label.sk-toggleable__label {cursor: pointer;display: block;width: 100%;margin-bottom: 0;padding: 0.3em;box-sizing: border-box;text-align: center;}#sk-container-id-1 label.sk-toggleable__label-arrow:before {content: \"▸\";float: left;margin-right: 0.25em;color: #696969;}#sk-container-id-1 label.sk-toggleable__label-arrow:hover:before {color: black;}#sk-container-id-1 div.sk-estimator:hover label.sk-toggleable__label-arrow:before {color: black;}#sk-container-id-1 div.sk-toggleable__content {max-height: 0;max-width: 0;overflow: hidden;text-align: left;background-color: #f0f8ff;}#sk-container-id-1 div.sk-toggleable__content pre {margin: 0.2em;color: black;border-radius: 0.25em;background-color: #f0f8ff;}#sk-container-id-1 input.sk-toggleable__control:checked~div.sk-toggleable__content {max-height: 200px;max-width: 100%;overflow: auto;}#sk-container-id-1 input.sk-toggleable__control:checked~label.sk-toggleable__label-arrow:before {content: \"▾\";}#sk-container-id-1 div.sk-estimator input.sk-toggleable__control:checked~label.sk-toggleable__label {background-color: #d4ebff;}#sk-container-id-1 div.sk-label input.sk-toggleable__control:checked~label.sk-toggleable__label {background-color: #d4ebff;}#sk-container-id-1 input.sk-hidden--visually {border: 0;clip: rect(1px 1px 1px 1px);clip: rect(1px, 1px, 1px, 1px);height: 1px;margin: -1px;overflow: hidden;padding: 0;position: absolute;width: 1px;}#sk-container-id-1 div.sk-estimator {font-family: monospace;background-color: #f0f8ff;border: 1px dotted black;border-radius: 0.25em;box-sizing: border-box;margin-bottom: 0.5em;}#sk-container-id-1 div.sk-estimator:hover {background-color: #d4ebff;}#sk-container-id-1 div.sk-parallel-item::after {content: \"\";width: 100%;border-bottom: 1px solid gray;flex-grow: 1;}#sk-container-id-1 div.sk-label:hover label.sk-toggleable__label {background-color: #d4ebff;}#sk-container-id-1 div.sk-serial::before {content: \"\";position: absolute;border-left: 1px solid gray;box-sizing: border-box;top: 0;bottom: 0;left: 50%;z-index: 0;}#sk-container-id-1 div.sk-serial {display: flex;flex-direction: column;align-items: center;background-color: white;padding-right: 0.2em;padding-left: 0.2em;position: relative;}#sk-container-id-1 div.sk-item {position: relative;z-index: 1;}#sk-container-id-1 div.sk-parallel {display: flex;align-items: stretch;justify-content: center;background-color: white;position: relative;}#sk-container-id-1 div.sk-item::before, #sk-container-id-1 div.sk-parallel-item::before {content: \"\";position: absolute;border-left: 1px solid gray;box-sizing: border-box;top: 0;bottom: 0;left: 50%;z-index: -1;}#sk-container-id-1 div.sk-parallel-item {display: flex;flex-direction: column;z-index: 1;position: relative;background-color: white;}#sk-container-id-1 div.sk-parallel-item:first-child::after {align-self: flex-end;width: 50%;}#sk-container-id-1 div.sk-parallel-item:last-child::after {align-self: flex-start;width: 50%;}#sk-container-id-1 div.sk-parallel-item:only-child::after {width: 0;}#sk-container-id-1 div.sk-dashed-wrapped {border: 1px dashed gray;margin: 0 0.4em 0.5em 0.4em;box-sizing: border-box;padding-bottom: 0.4em;background-color: white;}#sk-container-id-1 div.sk-label label {font-family: monospace;font-weight: bold;display: inline-block;line-height: 1.2em;}#sk-container-id-1 div.sk-label-container {text-align: center;}#sk-container-id-1 div.sk-container {/* jupyter's `normalize.less` sets `[hidden] { display: none; }` but bootstrap.min.css set `[hidden] { display: none !important; }` so we also need the `!important` here to be able to override the default hidden behavior on the sphinx rendered scikit-learn.org. See: https://github.com/scikit-learn/scikit-learn/issues/21755 */display: inline-block !important;position: relative;}#sk-container-id-1 div.sk-text-repr-fallback {display: none;}</style><div id=\"sk-container-id-1\" class=\"sk-top-container\"><div class=\"sk-text-repr-fallback\"><pre>Pipeline(steps=[(&#x27;columntransformer&#x27;,\n",
       "                 ColumnTransformer(transformers=[(&#x27;pipeline-1&#x27;,\n",
       "                                                  Pipeline(steps=[(&#x27;simpleimputer&#x27;,\n",
       "                                                                   SimpleImputer()),\n",
       "                                                                  (&#x27;standardscaler&#x27;,\n",
       "                                                                   StandardScaler(with_mean=False))]),\n",
       "                                                  &lt;sklearn.compose._column_transformer.make_column_selector object at 0x7f314c1c5ff0&gt;),\n",
       "                                                 (&#x27;pipeline-2&#x27;,\n",
       "                                                  Pipeline(steps=[(&#x27;simpleimputer&#x27;,\n",
       "                                                                   SimpleImputer(strategy=&#x27;most_frequent&#x27;)),\n",
       "                                                                  (&#x27;onehotencoder&#x27;,\n",
       "                                                                   OneHotEncoder(handle_unknown=&#x27;ignore&#x27;))]),\n",
       "                                                  &lt;sklearn.compose._column_transformer.make_column_selector object at 0x7f3141720c40&gt;)])),\n",
       "                (&#x27;randomforestclassifier&#x27;,\n",
       "                 RandomForestClassifier(class_weight=&#x27;balanced&#x27;, max_depth=10,\n",
       "                                        min_samples_leaf=700,\n",
       "                                        min_samples_split=4800,\n",
       "                                        n_estimators=200, n_jobs=-1,\n",
       "                                        random_state=42))])</pre><b>In a Jupyter environment, please rerun this cell to show the HTML representation or trust the notebook. <br />On GitHub, the HTML representation is unable to render, please try loading this page with nbviewer.org.</b></div><div class=\"sk-container\" hidden><div class=\"sk-item sk-dashed-wrapped\"><div class=\"sk-label-container\"><div class=\"sk-label sk-toggleable\"><input class=\"sk-toggleable__control sk-hidden--visually\" id=\"sk-estimator-id-1\" type=\"checkbox\" ><label for=\"sk-estimator-id-1\" class=\"sk-toggleable__label sk-toggleable__label-arrow\">Pipeline</label><div class=\"sk-toggleable__content\"><pre>Pipeline(steps=[(&#x27;columntransformer&#x27;,\n",
       "                 ColumnTransformer(transformers=[(&#x27;pipeline-1&#x27;,\n",
       "                                                  Pipeline(steps=[(&#x27;simpleimputer&#x27;,\n",
       "                                                                   SimpleImputer()),\n",
       "                                                                  (&#x27;standardscaler&#x27;,\n",
       "                                                                   StandardScaler(with_mean=False))]),\n",
       "                                                  &lt;sklearn.compose._column_transformer.make_column_selector object at 0x7f314c1c5ff0&gt;),\n",
       "                                                 (&#x27;pipeline-2&#x27;,\n",
       "                                                  Pipeline(steps=[(&#x27;simpleimputer&#x27;,\n",
       "                                                                   SimpleImputer(strategy=&#x27;most_frequent&#x27;)),\n",
       "                                                                  (&#x27;onehotencoder&#x27;,\n",
       "                                                                   OneHotEncoder(handle_unknown=&#x27;ignore&#x27;))]),\n",
       "                                                  &lt;sklearn.compose._column_transformer.make_column_selector object at 0x7f3141720c40&gt;)])),\n",
       "                (&#x27;randomforestclassifier&#x27;,\n",
       "                 RandomForestClassifier(class_weight=&#x27;balanced&#x27;, max_depth=10,\n",
       "                                        min_samples_leaf=700,\n",
       "                                        min_samples_split=4800,\n",
       "                                        n_estimators=200, n_jobs=-1,\n",
       "                                        random_state=42))])</pre></div></div></div><div class=\"sk-serial\"><div class=\"sk-item sk-dashed-wrapped\"><div class=\"sk-label-container\"><div class=\"sk-label sk-toggleable\"><input class=\"sk-toggleable__control sk-hidden--visually\" id=\"sk-estimator-id-2\" type=\"checkbox\" ><label for=\"sk-estimator-id-2\" class=\"sk-toggleable__label sk-toggleable__label-arrow\">columntransformer: ColumnTransformer</label><div class=\"sk-toggleable__content\"><pre>ColumnTransformer(transformers=[(&#x27;pipeline-1&#x27;,\n",
       "                                 Pipeline(steps=[(&#x27;simpleimputer&#x27;,\n",
       "                                                  SimpleImputer()),\n",
       "                                                 (&#x27;standardscaler&#x27;,\n",
       "                                                  StandardScaler(with_mean=False))]),\n",
       "                                 &lt;sklearn.compose._column_transformer.make_column_selector object at 0x7f314c1c5ff0&gt;),\n",
       "                                (&#x27;pipeline-2&#x27;,\n",
       "                                 Pipeline(steps=[(&#x27;simpleimputer&#x27;,\n",
       "                                                  SimpleImputer(strategy=&#x27;most_frequent&#x27;)),\n",
       "                                                 (&#x27;onehotencoder&#x27;,\n",
       "                                                  OneHotEncoder(handle_unknown=&#x27;ignore&#x27;))]),\n",
       "                                 &lt;sklearn.compose._column_transformer.make_column_selector object at 0x7f3141720c40&gt;)])</pre></div></div></div><div class=\"sk-parallel\"><div class=\"sk-parallel-item\"><div class=\"sk-item\"><div class=\"sk-label-container\"><div class=\"sk-label sk-toggleable\"><input class=\"sk-toggleable__control sk-hidden--visually\" id=\"sk-estimator-id-3\" type=\"checkbox\" ><label for=\"sk-estimator-id-3\" class=\"sk-toggleable__label sk-toggleable__label-arrow\">pipeline-1</label><div class=\"sk-toggleable__content\"><pre>&lt;sklearn.compose._column_transformer.make_column_selector object at 0x7f314c1c5ff0&gt;</pre></div></div></div><div class=\"sk-serial\"><div class=\"sk-item\"><div class=\"sk-serial\"><div class=\"sk-item\"><div class=\"sk-estimator sk-toggleable\"><input class=\"sk-toggleable__control sk-hidden--visually\" id=\"sk-estimator-id-4\" type=\"checkbox\" ><label for=\"sk-estimator-id-4\" class=\"sk-toggleable__label sk-toggleable__label-arrow\">SimpleImputer</label><div class=\"sk-toggleable__content\"><pre>SimpleImputer()</pre></div></div></div><div class=\"sk-item\"><div class=\"sk-estimator sk-toggleable\"><input class=\"sk-toggleable__control sk-hidden--visually\" id=\"sk-estimator-id-5\" type=\"checkbox\" ><label for=\"sk-estimator-id-5\" class=\"sk-toggleable__label sk-toggleable__label-arrow\">StandardScaler</label><div class=\"sk-toggleable__content\"><pre>StandardScaler(with_mean=False)</pre></div></div></div></div></div></div></div></div><div class=\"sk-parallel-item\"><div class=\"sk-item\"><div class=\"sk-label-container\"><div class=\"sk-label sk-toggleable\"><input class=\"sk-toggleable__control sk-hidden--visually\" id=\"sk-estimator-id-6\" type=\"checkbox\" ><label for=\"sk-estimator-id-6\" class=\"sk-toggleable__label sk-toggleable__label-arrow\">pipeline-2</label><div class=\"sk-toggleable__content\"><pre>&lt;sklearn.compose._column_transformer.make_column_selector object at 0x7f3141720c40&gt;</pre></div></div></div><div class=\"sk-serial\"><div class=\"sk-item\"><div class=\"sk-serial\"><div class=\"sk-item\"><div class=\"sk-estimator sk-toggleable\"><input class=\"sk-toggleable__control sk-hidden--visually\" id=\"sk-estimator-id-7\" type=\"checkbox\" ><label for=\"sk-estimator-id-7\" class=\"sk-toggleable__label sk-toggleable__label-arrow\">SimpleImputer</label><div class=\"sk-toggleable__content\"><pre>SimpleImputer(strategy=&#x27;most_frequent&#x27;)</pre></div></div></div><div class=\"sk-item\"><div class=\"sk-estimator sk-toggleable\"><input class=\"sk-toggleable__control sk-hidden--visually\" id=\"sk-estimator-id-8\" type=\"checkbox\" ><label for=\"sk-estimator-id-8\" class=\"sk-toggleable__label sk-toggleable__label-arrow\">OneHotEncoder</label><div class=\"sk-toggleable__content\"><pre>OneHotEncoder(handle_unknown=&#x27;ignore&#x27;)</pre></div></div></div></div></div></div></div></div></div></div><div class=\"sk-item\"><div class=\"sk-estimator sk-toggleable\"><input class=\"sk-toggleable__control sk-hidden--visually\" id=\"sk-estimator-id-9\" type=\"checkbox\" ><label for=\"sk-estimator-id-9\" class=\"sk-toggleable__label sk-toggleable__label-arrow\">RandomForestClassifier</label><div class=\"sk-toggleable__content\"><pre>RandomForestClassifier(class_weight=&#x27;balanced&#x27;, max_depth=10,\n",
       "                       min_samples_leaf=700, min_samples_split=4800,\n",
       "                       n_estimators=200, n_jobs=-1, random_state=42)</pre></div></div></div></div></div></div></div>"
      ],
      "text/plain": [
       "Pipeline(steps=[('columntransformer',\n",
       "                 ColumnTransformer(transformers=[('pipeline-1',\n",
       "                                                  Pipeline(steps=[('simpleimputer',\n",
       "                                                                   SimpleImputer()),\n",
       "                                                                  ('standardscaler',\n",
       "                                                                   StandardScaler(with_mean=False))]),\n",
       "                                                  <sklearn.compose._column_transformer.make_column_selector object at 0x7f314c1c5ff0>),\n",
       "                                                 ('pipeline-2',\n",
       "                                                  Pipeline(steps=[('simpleimputer',\n",
       "                                                                   SimpleImputer(strategy='most_frequent')),\n",
       "                                                                  ('onehotencoder',\n",
       "                                                                   OneHotEncoder(handle_unknown='ignore'))]),\n",
       "                                                  <sklearn.compose._column_transformer.make_column_selector object at 0x7f3141720c40>)])),\n",
       "                ('randomforestclassifier',\n",
       "                 RandomForestClassifier(class_weight='balanced', max_depth=10,\n",
       "                                        min_samples_leaf=700,\n",
       "                                        min_samples_split=4800,\n",
       "                                        n_estimators=200, n_jobs=-1,\n",
       "                                        random_state=42))])"
      ]
     },
     "execution_count": 7,
     "metadata": {},
     "output_type": "execute_result"
    }
   ],
   "source": [
    "# Add the RandomForestClassifier to the pipeline\n",
    "clf = make_pipeline(preprocessor, RandomForestClassifier(random_state=42, \n",
    "                                                        max_depth = 10, \n",
    "                                                        n_estimators = 200,\n",
    "                                                        min_samples_split = 4800,\n",
    "                                                        min_samples_leaf = 700,\n",
    "                                                        n_jobs=-1,\n",
    "                                                        class_weight='balanced'))\n",
    "\n",
    "# Fit the pipeline on the training data\n",
    "clf.fit(X_train, y_train)"
   ]
  },
  {
   "cell_type": "code",
   "execution_count": 13,
   "metadata": {},
   "outputs": [
    {
     "data": {
      "text/plain": [
       "0.8625129142089154"
      ]
     },
     "execution_count": 13,
     "metadata": {},
     "output_type": "execute_result"
    }
   ],
   "source": [
    "from sklearn.metrics import f1_score\n",
    "# Predict on the test data\n",
    "y_pred = clf.predict(X_test)\n",
    "\n",
    "f1_score(y_test, y_pred, average='weighted')"
   ]
  },
  {
   "cell_type": "code",
   "execution_count": 14,
   "metadata": {},
   "outputs": [
    {
     "name": "stdout",
     "output_type": "stream",
     "text": [
      "f1_SCORE_MACRO: {0.7852334711728493}\n"
     ]
    }
   ],
   "source": [
    "print (\"f1_SCORE_MACRO:\", {f1_score(y_test, y_pred, average='macro')})"
   ]
  },
  {
   "cell_type": "code",
   "execution_count": 16,
   "metadata": {},
   "outputs": [
    {
     "name": "stdout",
     "output_type": "stream",
     "text": [
      "              precision    recall  f1-score   support\n",
      "\n",
      "      CHGOFF       0.55      0.84      0.67     31281\n",
      "       P I F       0.96      0.85      0.90    146334\n",
      "\n",
      "    accuracy                           0.85    177615\n",
      "   macro avg       0.76      0.85      0.79    177615\n",
      "weighted avg       0.89      0.85      0.86    177615\n",
      "\n"
     ]
    }
   ],
   "source": [
    "from sklearn.metrics import classification_report, confusion_matrix\n",
    "print(classification_report(y_test, y_pred))"
   ]
  },
  {
   "cell_type": "code",
   "execution_count": 17,
   "metadata": {},
   "outputs": [
    {
     "name": "stdout",
     "output_type": "stream",
     "text": [
      "Confusion matrix: \n",
      " [[ 26288   4993]\n",
      " [ 21382 124952]]\n"
     ]
    }
   ],
   "source": [
    "from sklearn.metrics import classification_report, confusion_matrix\n",
    "print(\"Confusion matrix: \\n\", confusion_matrix(y_test, y_pred))"
   ]
  },
  {
   "cell_type": "markdown",
   "metadata": {},
   "source": [
    "# Sauvgarder en pkl"
   ]
  },
  {
   "cell_type": "code",
   "execution_count": 8,
   "metadata": {},
   "outputs": [],
   "source": [
    "\n",
    "# Save the model to a file\n",
    "with open(\"RFR_Model.pkl\", \"wb\") as file:\n",
    "    pickle.dump(clf, file)"
   ]
  },
  {
   "cell_type": "markdown",
   "metadata": {},
   "source": [
    "# Test FastApi"
   ]
  },
  {
   "cell_type": "code",
   "execution_count": 39,
   "metadata": {},
   "outputs": [],
   "source": [
    "from fastapi import FastAPI\n",
    "\n",
    "from typing import Optional\n",
    "from pydantic import BaseModel\n",
    "import pickle\n",
    "import pandas as pd\n",
    "\n",
    "pickle_in = open('RFR_Model.pkl', 'rb') \n",
    "forest_model =pickle.load(pickle_in)\n",
    "\n",
    "def get_prediction(State, NAICS, ApprovalFY, Term, NoEmp, NewExist, CreateJob, FranchiseCode, UrbanRural, RevLineCr, LowDoc, GrAppv):\n",
    "    x = [[State, NAICS, ApprovalFY, Term, NoEmp, NewExist, CreateJob, FranchiseCode, UrbanRural, RevLineCr, LowDoc, GrAppv]]\n",
    "    df = pd.DataFrame(x, columns=['State', 'NAICS', 'ApprovalFY', 'Term', 'NoEmp', 'NewExist', 'CreateJob', 'FranchiseCode', 'UrbanRural', 'RevLineCr', 'LowDoc', 'GrAppv'])\n",
    "    y = forest_model.predict(df)[0]\n",
    "    prob = forest_model.predict_proba(df)[0].tolist()\n",
    "    return {'prediction': str(y), 'probability': prob}"
   ]
  },
  {
   "cell_type": "code",
   "execution_count": 40,
   "metadata": {},
   "outputs": [
    {
     "name": "stdout",
     "output_type": "stream",
     "text": [
      "['P I F']\n"
     ]
    }
   ],
   "source": [
    "x_test = [['CA', 'Other', 1997, 240, 6, 1, 0, 1, 0, 'Y', 'N', 540000]]\n",
    "df_test = pd.DataFrame(x_test, columns=['State', 'NAICS', 'ApprovalFY', 'Term', 'NoEmp', 'NewExist', 'CreateJob', 'FranchiseCode', 'UrbanRural', 'RevLineCr', 'LowDoc', 'GrAppv'])\n",
    "\n",
    "# Make prediction using the clf model\n",
    "y_pred = forest_model.predict(df_test)\n",
    "\n",
    "# Print the prediction\n",
    "print(y_pred)\n"
   ]
  },
  {
   "cell_type": "code",
   "execution_count": null,
   "metadata": {},
   "outputs": [],
   "source": [
    "{\n",
    "  \"State\": \"CA\",\n",
    "  \"NAICS\": \"Other\",\n",
    "  \"ApprovalFY\": 1997,\n",
    "  \"Term\": 240,\n",
    "  \"NoEmp\": 6,\n",
    "  \"NewExist\": 1,\n",
    "  \"CreateJob\": 0,\n",
    "  \"FranchiseCode\": 1,\n",
    "  \"UrbanRural\": 0,\n",
    "  \"RevLineCr\": \"Y\",\n",
    "  \"LowDoc\": \"N\",\n",
    "  \"GrAppv\": 540000\n",
    "}\n"
   ]
  }
 ],
 "metadata": {
  "kernelspec": {
   "display_name": "ML",
   "language": "python",
   "name": "python3"
  },
  "language_info": {
   "codemirror_mode": {
    "name": "ipython",
    "version": 3
   },
   "file_extension": ".py",
   "mimetype": "text/x-python",
   "name": "python",
   "nbconvert_exporter": "python",
   "pygments_lexer": "ipython3",
   "version": "3.10.9 (main, Jan 11 2023, 15:21:40) [GCC 11.2.0]"
  },
  "orig_nbformat": 4,
  "vscode": {
   "interpreter": {
    "hash": "06dc4c0c8791bff8a031225908f8131efa47836c89bbd01018ab8fc2f6372f67"
   }
  }
 },
 "nbformat": 4,
 "nbformat_minor": 2
}
