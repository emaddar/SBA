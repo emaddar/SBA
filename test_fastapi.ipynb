{
 "cells": [
  {
   "cell_type": "code",
   "execution_count": 3,
   "metadata": {},
   "outputs": [
    {
     "name": "stdout",
     "output_type": "stream",
     "text": [
      "{'prediction': 'P I F', 'probability': [0.20688539289287874, 0.7931146071071212]}\n"
     ]
    }
   ],
   "source": [
    "import requests\n",
    "\n",
    "# Define the input parameters\n",
    "data = {\n",
    "    \"State\": \"NY\",\n",
    "    \"NAICS\": \"11\",\n",
    "    \"ApprovalFY\": \"2010\",\n",
    "    \"Term\": \"600\",\n",
    "    \"NoEmp\": \"10\",\n",
    "    \"NewExist\": \"1.0\",\n",
    "    \"CreateJob\": \"1\",\n",
    "    \"FranchiseCode\": \"0\",\n",
    "    \"UrbanRural\": \"1\",\n",
    "    \"RevLineCr\": \"Y\",\n",
    "    \"LowDoc\": \"Y\",\n",
    "    \"GrAppv\": \"500000\"\n",
    "}\n",
    "\n",
    "# Send the POST request\n",
    "response = requests.post(\"http://localhost:8000/predict\", json=data)\n",
    "\n",
    "# Print the response\n",
    "print(response.json())\n"
   ]
  },
  {
   "cell_type": "code",
   "execution_count": null,
   "metadata": {},
   "outputs": [],
   "source": []
  }
 ],
 "metadata": {
  "kernelspec": {
   "display_name": "ML",
   "language": "python",
   "name": "python3"
  },
  "language_info": {
   "codemirror_mode": {
    "name": "ipython",
    "version": 3
   },
   "file_extension": ".py",
   "mimetype": "text/x-python",
   "name": "python",
   "nbconvert_exporter": "python",
   "pygments_lexer": "ipython3",
   "version": "3.10.9 (main, Jan 11 2023, 15:21:40) [GCC 11.2.0]"
  },
  "orig_nbformat": 4,
  "vscode": {
   "interpreter": {
    "hash": "06dc4c0c8791bff8a031225908f8131efa47836c89bbd01018ab8fc2f6372f67"
   }
  }
 },
 "nbformat": 4,
 "nbformat_minor": 2
}
