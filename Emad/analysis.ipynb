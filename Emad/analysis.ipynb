{
 "cells": [
  {
   "cell_type": "markdown",
   "metadata": {},
   "source": [
    "# SBA"
   ]
  },
  {
   "cell_type": "markdown",
   "metadata": {},
   "source": [
    "# import packages"
   ]
  },
  {
   "cell_type": "code",
   "execution_count": 346,
   "metadata": {},
   "outputs": [],
   "source": [
    "import pandas as pd\n",
    "import matplotlib.pyplot as plt\n",
    "import sweetviz as sv\n",
    "import missingno as msno\n",
    "import time \n",
    "import sys\n",
    "import os\n",
    "import csv\n",
    "from bs4 import BeautifulSoup\n",
    "import requests\n",
    "import re"
   ]
  },
  {
   "cell_type": "markdown",
   "metadata": {},
   "source": [
    "![SBA](https://youth.gov/sites/default/files/2021-08/SBA-Formatted.gif)"
   ]
  },
  {
   "cell_type": "markdown",
   "metadata": {},
   "source": [
    "## Read Data"
   ]
  },
  {
   "cell_type": "code",
   "execution_count": 347,
   "metadata": {},
   "outputs": [
    {
     "name": "stderr",
     "output_type": "stream",
     "text": [
      "/tmp/ipykernel_17325/265992718.py:2: DtypeWarning: Columns (9) have mixed types. Specify dtype option on import or set low_memory=False.\n",
      "  df = pd.read_csv('/home/apprenant/Documents/archive/SBAnational.csv')\n"
     ]
    }
   ],
   "source": [
    "try:\n",
    "    df = pd.read_csv('/home/apprenant/Documents/archive/SBAnational.csv')\n",
    "except:\n",
    "    df = pd.read_csv('C:/Users/emada/Downloads/loan_project (1)/SBAnational.csv')"
   ]
  },
  {
   "cell_type": "code",
   "execution_count": 348,
   "metadata": {},
   "outputs": [
    {
     "name": "stdout",
     "output_type": "stream",
     "text": [
      "<class 'pandas.core.frame.DataFrame'>\n",
      "RangeIndex: 899164 entries, 0 to 899163\n",
      "Data columns (total 27 columns):\n",
      " #   Column             Non-Null Count   Dtype  \n",
      "---  ------             --------------   -----  \n",
      " 0   LoanNr_ChkDgt      899164 non-null  int64  \n",
      " 1   Name               899150 non-null  object \n",
      " 2   City               899134 non-null  object \n",
      " 3   State              899150 non-null  object \n",
      " 4   Zip                899164 non-null  int64  \n",
      " 5   Bank               897605 non-null  object \n",
      " 6   BankState          897598 non-null  object \n",
      " 7   NAICS              899164 non-null  int64  \n",
      " 8   ApprovalDate       899164 non-null  object \n",
      " 9   ApprovalFY         899164 non-null  object \n",
      " 10  Term               899164 non-null  int64  \n",
      " 11  NoEmp              899164 non-null  int64  \n",
      " 12  NewExist           899028 non-null  float64\n",
      " 13  CreateJob          899164 non-null  int64  \n",
      " 14  RetainedJob        899164 non-null  int64  \n",
      " 15  FranchiseCode      899164 non-null  int64  \n",
      " 16  UrbanRural         899164 non-null  int64  \n",
      " 17  RevLineCr          894636 non-null  object \n",
      " 18  LowDoc             896582 non-null  object \n",
      " 19  ChgOffDate         162699 non-null  object \n",
      " 20  DisbursementDate   896796 non-null  object \n",
      " 21  DisbursementGross  899164 non-null  object \n",
      " 22  BalanceGross       899164 non-null  object \n",
      " 23  MIS_Status         897167 non-null  object \n",
      " 24  ChgOffPrinGr       899164 non-null  object \n",
      " 25  GrAppv             899164 non-null  object \n",
      " 26  SBA_Appv           899164 non-null  object \n",
      "dtypes: float64(1), int64(9), object(17)\n",
      "memory usage: 185.2+ MB\n"
     ]
    }
   ],
   "source": [
    "df.info()"
   ]
  },
  {
   "cell_type": "markdown",
   "metadata": {},
   "source": [
    "### Remove \"A\" in \"ApprovalFY\" column and replace it with \"\" then change type to int"
   ]
  },
  {
   "cell_type": "code",
   "execution_count": 349,
   "metadata": {},
   "outputs": [
    {
     "name": "stdout",
     "output_type": "stream",
     "text": [
      "2.66 ms ± 469 µs per loop (mean ± std. dev. of 7 runs, 1 loop each)\n"
     ]
    }
   ],
   "source": [
    "%%timeit\n",
    "df['ApprovalFY'] = df['ApprovalFY'].replace('A', '', regex=True).astype(int)"
   ]
  },
  {
   "cell_type": "markdown",
   "metadata": {},
   "source": [
    "### Creat sweetvis Repport\n",
    "![sweetvis](https://warehouse-camo.ingress.cmh1.psfhosted.org/210c4eb7317c8b0d2e7d0784b1a9697c096050ef/687474703a2f2f636f6f6c74696d696e672e636f6d2f53562f4c61796f75742d416e696d332e676966)"
   ]
  },
  {
   "cell_type": "code",
   "execution_count": 350,
   "metadata": {},
   "outputs": [],
   "source": [
    "# report = sv.analyze(df)\n",
    "# report.show_html('report.html')\n"
   ]
  },
  {
   "cell_type": "markdown",
   "metadata": {},
   "source": [
    "##  The target feature (y) is : MSI_Status (CHGOFF and PIF)"
   ]
  },
  {
   "cell_type": "code",
   "execution_count": 351,
   "metadata": {},
   "outputs": [
    {
     "data": {
      "text/plain": [
       "P I F     739609\n",
       "CHGOFF    157558\n",
       "Name: MIS_Status, dtype: int64"
      ]
     },
     "execution_count": 351,
     "metadata": {},
     "output_type": "execute_result"
    }
   ],
   "source": [
    "df['MIS_Status'].value_counts()"
   ]
  },
  {
   "cell_type": "markdown",
   "metadata": {},
   "source": [
    "### Data cleaning"
   ]
  },
  {
   "cell_type": "code",
   "execution_count": 352,
   "metadata": {},
   "outputs": [
    {
     "data": {
      "text/html": [
       "<div>\n",
       "<style scoped>\n",
       "    .dataframe tbody tr th:only-of-type {\n",
       "        vertical-align: middle;\n",
       "    }\n",
       "\n",
       "    .dataframe tbody tr th {\n",
       "        vertical-align: top;\n",
       "    }\n",
       "\n",
       "    .dataframe thead th {\n",
       "        text-align: right;\n",
       "    }\n",
       "</style>\n",
       "<table border=\"1\" class=\"dataframe\">\n",
       "  <thead>\n",
       "    <tr style=\"text-align: right;\">\n",
       "      <th></th>\n",
       "      <th>LoanNr_ChkDgt</th>\n",
       "      <th>Zip</th>\n",
       "      <th>NAICS</th>\n",
       "      <th>ApprovalFY</th>\n",
       "      <th>Term</th>\n",
       "      <th>NoEmp</th>\n",
       "      <th>NewExist</th>\n",
       "      <th>CreateJob</th>\n",
       "      <th>RetainedJob</th>\n",
       "      <th>FranchiseCode</th>\n",
       "      <th>UrbanRural</th>\n",
       "    </tr>\n",
       "  </thead>\n",
       "  <tbody>\n",
       "    <tr>\n",
       "      <th>count</th>\n",
       "      <td>8.991640e+05</td>\n",
       "      <td>899164.000000</td>\n",
       "      <td>899164.000000</td>\n",
       "      <td>899164.000000</td>\n",
       "      <td>899164.000000</td>\n",
       "      <td>899164.000000</td>\n",
       "      <td>899028.000000</td>\n",
       "      <td>899164.000000</td>\n",
       "      <td>899164.000000</td>\n",
       "      <td>899164.000000</td>\n",
       "      <td>899164.000000</td>\n",
       "    </tr>\n",
       "    <tr>\n",
       "      <th>mean</th>\n",
       "      <td>4.772612e+09</td>\n",
       "      <td>53804.391241</td>\n",
       "      <td>398660.950146</td>\n",
       "      <td>2001.143560</td>\n",
       "      <td>110.773078</td>\n",
       "      <td>11.411353</td>\n",
       "      <td>1.280404</td>\n",
       "      <td>8.430376</td>\n",
       "      <td>10.797257</td>\n",
       "      <td>2753.725933</td>\n",
       "      <td>0.757748</td>\n",
       "    </tr>\n",
       "    <tr>\n",
       "      <th>std</th>\n",
       "      <td>2.538175e+09</td>\n",
       "      <td>31184.159152</td>\n",
       "      <td>263318.312760</td>\n",
       "      <td>5.913846</td>\n",
       "      <td>78.857305</td>\n",
       "      <td>74.108196</td>\n",
       "      <td>0.451750</td>\n",
       "      <td>236.688165</td>\n",
       "      <td>237.120600</td>\n",
       "      <td>12758.019136</td>\n",
       "      <td>0.646436</td>\n",
       "    </tr>\n",
       "    <tr>\n",
       "      <th>min</th>\n",
       "      <td>1.000014e+09</td>\n",
       "      <td>0.000000</td>\n",
       "      <td>0.000000</td>\n",
       "      <td>1962.000000</td>\n",
       "      <td>0.000000</td>\n",
       "      <td>0.000000</td>\n",
       "      <td>0.000000</td>\n",
       "      <td>0.000000</td>\n",
       "      <td>0.000000</td>\n",
       "      <td>0.000000</td>\n",
       "      <td>0.000000</td>\n",
       "    </tr>\n",
       "    <tr>\n",
       "      <th>25%</th>\n",
       "      <td>2.589758e+09</td>\n",
       "      <td>27587.000000</td>\n",
       "      <td>235210.000000</td>\n",
       "      <td>1997.000000</td>\n",
       "      <td>60.000000</td>\n",
       "      <td>2.000000</td>\n",
       "      <td>1.000000</td>\n",
       "      <td>0.000000</td>\n",
       "      <td>0.000000</td>\n",
       "      <td>1.000000</td>\n",
       "      <td>0.000000</td>\n",
       "    </tr>\n",
       "    <tr>\n",
       "      <th>50%</th>\n",
       "      <td>4.361439e+09</td>\n",
       "      <td>55410.000000</td>\n",
       "      <td>445310.000000</td>\n",
       "      <td>2002.000000</td>\n",
       "      <td>84.000000</td>\n",
       "      <td>4.000000</td>\n",
       "      <td>1.000000</td>\n",
       "      <td>0.000000</td>\n",
       "      <td>1.000000</td>\n",
       "      <td>1.000000</td>\n",
       "      <td>1.000000</td>\n",
       "    </tr>\n",
       "    <tr>\n",
       "      <th>75%</th>\n",
       "      <td>6.904627e+09</td>\n",
       "      <td>83704.000000</td>\n",
       "      <td>561730.000000</td>\n",
       "      <td>2006.000000</td>\n",
       "      <td>120.000000</td>\n",
       "      <td>10.000000</td>\n",
       "      <td>2.000000</td>\n",
       "      <td>1.000000</td>\n",
       "      <td>4.000000</td>\n",
       "      <td>1.000000</td>\n",
       "      <td>1.000000</td>\n",
       "    </tr>\n",
       "    <tr>\n",
       "      <th>max</th>\n",
       "      <td>9.996003e+09</td>\n",
       "      <td>99999.000000</td>\n",
       "      <td>928120.000000</td>\n",
       "      <td>2014.000000</td>\n",
       "      <td>569.000000</td>\n",
       "      <td>9999.000000</td>\n",
       "      <td>2.000000</td>\n",
       "      <td>8800.000000</td>\n",
       "      <td>9500.000000</td>\n",
       "      <td>99999.000000</td>\n",
       "      <td>2.000000</td>\n",
       "    </tr>\n",
       "  </tbody>\n",
       "</table>\n",
       "</div>"
      ],
      "text/plain": [
       "       LoanNr_ChkDgt            Zip          NAICS     ApprovalFY  \\\n",
       "count   8.991640e+05  899164.000000  899164.000000  899164.000000   \n",
       "mean    4.772612e+09   53804.391241  398660.950146    2001.143560   \n",
       "std     2.538175e+09   31184.159152  263318.312760       5.913846   \n",
       "min     1.000014e+09       0.000000       0.000000    1962.000000   \n",
       "25%     2.589758e+09   27587.000000  235210.000000    1997.000000   \n",
       "50%     4.361439e+09   55410.000000  445310.000000    2002.000000   \n",
       "75%     6.904627e+09   83704.000000  561730.000000    2006.000000   \n",
       "max     9.996003e+09   99999.000000  928120.000000    2014.000000   \n",
       "\n",
       "                Term          NoEmp       NewExist      CreateJob  \\\n",
       "count  899164.000000  899164.000000  899028.000000  899164.000000   \n",
       "mean      110.773078      11.411353       1.280404       8.430376   \n",
       "std        78.857305      74.108196       0.451750     236.688165   \n",
       "min         0.000000       0.000000       0.000000       0.000000   \n",
       "25%        60.000000       2.000000       1.000000       0.000000   \n",
       "50%        84.000000       4.000000       1.000000       0.000000   \n",
       "75%       120.000000      10.000000       2.000000       1.000000   \n",
       "max       569.000000    9999.000000       2.000000    8800.000000   \n",
       "\n",
       "         RetainedJob  FranchiseCode     UrbanRural  \n",
       "count  899164.000000  899164.000000  899164.000000  \n",
       "mean       10.797257    2753.725933       0.757748  \n",
       "std       237.120600   12758.019136       0.646436  \n",
       "min         0.000000       0.000000       0.000000  \n",
       "25%         0.000000       1.000000       0.000000  \n",
       "50%         1.000000       1.000000       1.000000  \n",
       "75%         4.000000       1.000000       1.000000  \n",
       "max      9500.000000   99999.000000       2.000000  "
      ]
     },
     "execution_count": 352,
     "metadata": {},
     "output_type": "execute_result"
    }
   ],
   "source": [
    "df.describe()"
   ]
  },
  {
   "cell_type": "code",
   "execution_count": 353,
   "metadata": {},
   "outputs": [
    {
     "data": {
      "image/png": "[encoded data removed]",
      "text/plain": [
       "<Figure size 1800x720 with 2 Axes>"
      ]
     },
     "metadata": {
      "needs_background": "light"
     },
     "output_type": "display_data"
    }
   ],
   "source": [
    "msno.matrix(df);"
   ]
  },
  {
   "cell_type": "code",
   "execution_count": 354,
   "metadata": {},
   "outputs": [
    {
     "name": "stdout",
     "output_type": "stream",
     "text": [
      "LoanNr_ChkDgt             0\n",
      "Name                     14\n",
      "City                     30\n",
      "State                    14\n",
      "Zip                       0\n",
      "Bank                   1559\n",
      "BankState              1566\n",
      "NAICS                     0\n",
      "ApprovalDate              0\n",
      "ApprovalFY                0\n",
      "Term                      0\n",
      "NoEmp                     0\n",
      "NewExist                136\n",
      "CreateJob                 0\n",
      "RetainedJob               0\n",
      "FranchiseCode             0\n",
      "UrbanRural                0\n",
      "RevLineCr              4528\n",
      "LowDoc                 2582\n",
      "ChgOffDate           736465\n",
      "DisbursementDate       2368\n",
      "DisbursementGross         0\n",
      "BalanceGross              0\n",
      "MIS_Status             1997\n",
      "ChgOffPrinGr              0\n",
      "GrAppv                    0\n",
      "SBA_Appv                  0\n",
      "dtype: int64\n"
     ]
    }
   ],
   "source": [
    "print(df.isnull().sum())"
   ]
  },
  {
   "cell_type": "markdown",
   "metadata": {},
   "source": [
    "### Replace \"$\" with \"\" in numeric columns"
   ]
  },
  {
   "cell_type": "code",
   "execution_count": 355,
   "metadata": {},
   "outputs": [
    {
     "name": "stderr",
     "output_type": "stream",
     "text": [
      "/tmp/ipykernel_17325/4030755346.py:6: FutureWarning: The default value of regex will change from True to False in a future version. In addition, single character regular expressions will *not* be treated as literal strings when regex=True.\n",
      "  df[col] = df[col].str.replace(\"$\", \"\")\n"
     ]
    }
   ],
   "source": [
    "# create a list of all numeric columns\n",
    "columns_to_transform_to_int = [\"DisbursementGross\",\"BalanceGross\",\"ChgOffPrinGr\",\"GrAppv\",\"SBA_Appv\"]\n",
    "\n",
    "\n",
    "for col in columns_to_transform_to_int:\n",
    "    df[col] = df[col].str.replace(\"$\", \"\")\n",
    "    df[col] = df[col].str.replace(\",\", \"\")\n",
    "    df[col] = df[col].astype(float)\n",
    "    \n",
    "\n",
    "df['Term'] = df['Term'].astype(int)"
   ]
  },
  {
   "cell_type": "markdown",
   "metadata": {},
   "source": [
    "## Cleaning LowDoc column"
   ]
  },
  {
   "cell_type": "code",
   "execution_count": 356,
   "metadata": {},
   "outputs": [
    {
     "data": {
      "text/plain": [
       "N    784313\n",
       "Y    110335\n",
       "C       758\n",
       "S       603\n",
       "A       497\n",
       "R        75\n",
       "1         1\n",
       "Name: LowDoc, dtype: int64"
      ]
     },
     "execution_count": 356,
     "metadata": {},
     "output_type": "execute_result"
    }
   ],
   "source": [
    "df['LowDoc'] = df['LowDoc'].replace({'0': 'N'})\n",
    "df['LowDoc'].value_counts()"
   ]
  },
  {
   "cell_type": "markdown",
   "metadata": {},
   "source": [
    "#### Keep only \"N\" and \"Y\""
   ]
  },
  {
   "cell_type": "code",
   "execution_count": 357,
   "metadata": {},
   "outputs": [
    {
     "data": {
      "text/plain": [
       "N    784313\n",
       "Y    110335\n",
       "Name: LowDoc, dtype: int64"
      ]
     },
     "execution_count": 357,
     "metadata": {},
     "output_type": "execute_result"
    }
   ],
   "source": [
    "df = df[df['LowDoc'].isin(['N','Y'])]\n",
    "df['LowDoc'].value_counts()"
   ]
  },
  {
   "cell_type": "markdown",
   "metadata": {},
   "source": [
    "## Cleaning RevLineCr column"
   ]
  },
  {
   "cell_type": "code",
   "execution_count": 358,
   "metadata": {},
   "outputs": [
    {
     "data": {
      "text/plain": [
       "N    674362\n",
       "Y    215694\n",
       "1        23\n",
       "R        14\n",
       "`        11\n",
       "2         6\n",
       "C         2\n",
       ",         1\n",
       "3         1\n",
       "7         1\n",
       "A         1\n",
       "5         1\n",
       ".         1\n",
       "4         1\n",
       "-         1\n",
       "Q         1\n",
       "Name: RevLineCr, dtype: int64"
      ]
     },
     "execution_count": 358,
     "metadata": {},
     "output_type": "execute_result"
    }
   ],
   "source": [
    "df['RevLineCr'] = df['RevLineCr'].replace({'0': 'N', 'T':'Y'})\n",
    "df['RevLineCr'].value_counts()"
   ]
  },
  {
   "cell_type": "markdown",
   "metadata": {},
   "source": [
    "#### Keep only \"N\" and \"Y\""
   ]
  },
  {
   "cell_type": "code",
   "execution_count": 359,
   "metadata": {},
   "outputs": [
    {
     "data": {
      "text/plain": [
       "N    674362\n",
       "Y    215694\n",
       "Name: RevLineCr, dtype: int64"
      ]
     },
     "execution_count": 359,
     "metadata": {},
     "output_type": "execute_result"
    }
   ],
   "source": [
    "df = df[df['RevLineCr'].isin(['N','Y'])]\n",
    "df['RevLineCr'].value_counts()"
   ]
  },
  {
   "cell_type": "markdown",
   "metadata": {},
   "source": [
    "### Find State's df missing values using Zip codes"
   ]
  },
  {
   "cell_type": "code",
   "execution_count": 360,
   "metadata": {},
   "outputs": [],
   "source": [
    "# def getCityState(zipCode):\n",
    "#     zipCode = str(zipCode)\n",
    "#     url = \"http://www.city-data.com/zips/\" + zipCode + \".html\"\n",
    "#     r = requests.get(url)\n",
    "#     data = r.text\n",
    "#     soup = BeautifulSoup(data)\n",
    "#     if soup.findAll(text=\"City:\") ==[]:\n",
    "#         cityNeeded = soup.findAll(text=\"Cities:\")\n",
    "#         for t in cityNeeded:\n",
    "#             city_name = t.find_next('a').string\n",
    "#             if city_name:\n",
    "#                 return city_name\n",
    "#                 time.sleep(0.5)\n",
    "#     else:\n",
    "#         cityNeeded = soup.findAll(text=\"City:\")\n",
    "#         for t in cityNeeded:\n",
    "#             city_name = t.find_next('a').string\n",
    "#             if city_name:\n",
    "#                 return city_name\n",
    "#                 time.sleep(0.5)\n",
    "#     return None\n",
    "\n",
    "\n",
    "# df['Zip'] = df['Zip'].astype(int)\n",
    "\n",
    "\n",
    "# # Find the rows where the 'State' column is missing\n",
    "# missing_state_rows = df[df['State'].isnull()]\n",
    "\n",
    "# # Use the 'apply' function to apply the 'getCityState' function to the 'Zip' column of the missing rows\n",
    "# missing_state_rows['State'] = missing_state_rows['Zip'].apply(lambda x: getCityState(x))\n",
    "\n",
    "# # Update the original DataFrame with the new values for the 'State' column\n",
    "# df.update(missing_state_rows)\n",
    "\n",
    "# df['State'] = df['State'].str[-2:]\n",
    "\n",
    "\n",
    "# df[df['State'].isna()]\n"
   ]
  },
  {
   "attachments": {},
   "cell_type": "markdown",
   "metadata": {},
   "source": [
    "### We still have 3 States missing values bescause of there non valide Zip code"
   ]
  },
  {
   "cell_type": "markdown",
   "metadata": {},
   "source": [
    "## Drop not important features"
   ]
  },
  {
   "cell_type": "code",
   "execution_count": 361,
   "metadata": {},
   "outputs": [
    {
     "data": {
      "text/plain": [
       "Other                                                                       199600\n",
       "Retail trade                                                                126049\n",
       "Other services (except public administration)                                72040\n",
       "Professional, scientific, and technical services                             67422\n",
       "Manufacturing                                                                67327\n",
       "Accommodation and food services                                              67057\n",
       "Construction                                                                 65950\n",
       "Health care and social assistance                                            54833\n",
       "Wholesale trade                                                              48361\n",
       "Administrative and support and waste management and remediation services     32313\n",
       " Transportation and warehousing                                              20061\n",
       "Arts, entertainment, and recreation                                          14468\n",
       "Real estate and rental and leasing                                           13508\n",
       "Information                                                                  11250\n",
       "Finance and insurance                                                         9428\n",
       "Agriculture, forestry, fishing and hunting                                    8897\n",
       "Educational services                                                          6339\n",
       "Transportation and warehousing                                                2190\n",
       "Mining, quarrying, and oil and gas extraction                                 1826\n",
       "Utilities                                                                      656\n",
       "Management of companies and enterprises                                        257\n",
       "Public administration                                                          224\n",
       "Name: Categorie_NAICS, dtype: int64"
      ]
     },
     "execution_count": 361,
     "metadata": {},
     "output_type": "execute_result"
    }
   ],
   "source": [
    "dictionnaire =  {\"11\":\"Agriculture, forestry, fishing and hunting\",\"72\":\"Accommodation and food services\",\"21\":\"Mining, quarrying, and oil and gas extraction\",\"22\":\n",
    "\"Utilities\",\"23\":\"Construction\",\"31\":\"Manufacturing\",\"32\":\"Manufacturing\",\"33\":\"Manufacturing\",\"42\":\"Wholesale trade\",\"44\":\"Retail trade\",\"45\":\"Retail trade\",\"48\":\" Transportation and warehousing\", \"49\":\"Transportation and warehousing\", \"51\":\"Information\",\"52\":\"Finance and insurance\", \"53\":\"Real estate and rental and leasing\",\"54\":\"Professional, scientific, and technical services\",\"55\":\"Management of companies and enterprises\",\"56\":\"Administrative and support and waste management and remediation services\",\"61\":\"Educational services\",\"62\":\"Health care and social assistance\",\"71\":\"Arts, entertainment, and recreation\",\"81\":\"Other services (except public administration)\", \"92\": \"Public administration\", \"0\" : \"Other\"}\n",
    "\n",
    "df['NAICS'] = df['NAICS'].astype(str).str[:2]\n",
    "\n",
    "df[\"Categorie_NAICS\"] = df[\"NAICS\"].map(dictionnaire)\n",
    "\n",
    "# df.Categorie.value_counts(dropna=False)\n",
    "\n",
    "df[\"Categorie_NAICS\"].value_counts(dropna=False)"
   ]
  },
  {
   "cell_type": "code",
   "execution_count": 362,
   "metadata": {},
   "outputs": [
    {
     "data": {
      "text/plain": [
       "Index(['LoanNr_ChkDgt', 'Name', 'City', 'State', 'Zip', 'Bank', 'BankState',\n",
       "       'NAICS', 'ApprovalDate', 'ApprovalFY', 'Term', 'NoEmp', 'NewExist',\n",
       "       'CreateJob', 'RetainedJob', 'FranchiseCode', 'UrbanRural', 'RevLineCr',\n",
       "       'LowDoc', 'ChgOffDate', 'DisbursementDate', 'DisbursementGross',\n",
       "       'BalanceGross', 'MIS_Status', 'ChgOffPrinGr', 'GrAppv', 'SBA_Appv',\n",
       "       'Categorie_NAICS'],\n",
       "      dtype='object')"
      ]
     },
     "execution_count": 362,
     "metadata": {},
     "output_type": "execute_result"
    }
   ],
   "source": [
    "df.columns"
   ]
  },
  {
   "cell_type": "code",
   "execution_count": 386,
   "metadata": {},
   "outputs": [],
   "source": [
    "cols_to_drop = ['LoanNr_ChkDgt', 'Name', 'City', 'Zip', 'Bank', 'BankState', 'ApprovalDate', 'RetainedJob','ChgOffDate', 'DisbursementDate', 'DisbursementGross', 'BalanceGross', 'SBA_Appv', 'ChgOffPrinGr']\n",
    "df_cleaned = df.copy()\n",
    "df_cleaned.drop(columns=cols_to_drop, inplace=True)\n"
   ]
  },
  {
   "cell_type": "markdown",
   "metadata": {},
   "source": [
    "## Drop from df all missing values in columne \"MSI_Status\""
   ]
  },
  {
   "cell_type": "code",
   "execution_count": 387,
   "metadata": {},
   "outputs": [],
   "source": [
    "df_cleaned.dropna(subset=['MIS_Status'], inplace=True)\n"
   ]
  },
  {
   "cell_type": "code",
   "execution_count": 388,
   "metadata": {},
   "outputs": [
    {
     "data": {
      "image/png": "[encoded data removed]",
      "text/plain": [
       "<Figure size 1800x720 with 2 Axes>"
      ]
     },
     "metadata": {
      "needs_background": "light"
     },
     "output_type": "display_data"
    }
   ],
   "source": [
    "msno.matrix(df_cleaned);"
   ]
  },
  {
   "cell_type": "code",
   "execution_count": 389,
   "metadata": {},
   "outputs": [
    {
     "data": {
      "text/plain": [
       "State               13\n",
       "NAICS                0\n",
       "ApprovalFY           0\n",
       "Term                 0\n",
       "NoEmp                0\n",
       "NewExist           130\n",
       "CreateJob            0\n",
       "FranchiseCode        0\n",
       "UrbanRural           0\n",
       "RevLineCr            0\n",
       "LowDoc               0\n",
       "MIS_Status           0\n",
       "GrAppv               0\n",
       "Categorie_NAICS      0\n",
       "dtype: int64"
      ]
     },
     "execution_count": 389,
     "metadata": {},
     "output_type": "execute_result"
    }
   ],
   "source": [
    "df_cleaned.isna().sum()"
   ]
  },
  {
   "cell_type": "markdown",
   "metadata": {},
   "source": [
    "## Sum of Gross amount of loan approved\n",
    "![All](https://media.tenor.com/6Hixx4SFAeQAAAAM/backing-you-get-yours.gif)"
   ]
  },
  {
   "cell_type": "code",
   "execution_count": 390,
   "metadata": {},
   "outputs": [
    {
     "name": "stdout",
     "output_type": "stream",
     "text": [
      "171682877940.0\n"
     ]
    }
   ],
   "source": [
    "print(df['GrAppv'].sum())"
   ]
  },
  {
   "cell_type": "code",
   "execution_count": 391,
   "metadata": {},
   "outputs": [],
   "source": [
    "y = df_cleaned.MIS_Status\n",
    "X = df_cleaned.drop(columns=['MIS_Status'])"
   ]
  },
  {
   "cell_type": "markdown",
   "metadata": {},
   "source": [
    "# Feature Selection\n",
    "\n",
    "There are several ways to test the feature importance in a machine learning classification model. Some popular methods include:\n",
    "\n",
    "- `Permutation Importance`: This method involves shuffling the values of a single feature and measuring the change in the model's performance. The idea is that if a feature is important, then shuffling its values should have a large impact on the model's performance.\n",
    "\n",
    "- `Feature Importance from Tree-based Models`: Tree-based models like decision trees, random forests, and gradient boosting machines, can directly compute feature importance by looking at how much each feature contributes to the final decision. These models typically have an attribute such as feature_importances_ or coef_ which can be used to extract feature importance.\n",
    "\n",
    "- `Recursive Feature Elimination (RFE)`: This method involves fitting the model with all the features and then recursively removing the feature with the lowest importance until a desired number of features is reached. The final set of features selected by this method is considered to be the most important.\n",
    "\n",
    "- `LASSO Regression`: Lasso regression is a linear model that can be used for feature selection. It works by adding a penalty term to the linear regression model that shrinks the coefficients of less important features towards zero.\n",
    "\n",
    "- `Partial dependence plots`: These plots show the relationship between a feature and the model's predictions. They can be used to understand how a feature affects the model's predictions and identify the most important features.\n",
    "\n",
    "These are just a few of the many methods available for testing feature importance. The best method to use will depend on the specific model and dataset you're working with.\n",
    "\n",
    "It's worth to mention that, feature importance can be influenced by the data distribution, data scale, data leakage, the model used, and the evaluation metric. Therefore, it's important to be careful interpreting the results of feature importance, and to use other techniques like cross-validation, permutation test, and visualization to confirm the feature importance."
   ]
  },
  {
   "attachments": {},
   "cell_type": "markdown",
   "metadata": {},
   "source": [
    "### Permutation Importance \n",
    "is a technique you can use to determine the importance of each feature in your dataset. Here's an example of how you can implement permutation importance with your binary classification dataset:\n",
    "\n",
    "1. First, you'll need to train a model on your dataset. For example, you can use a RandomForestClassifier or any other classifier model of your choice.\n",
    "\n",
    "2. Next, you'll want to evaluate the model's performance using a performance metric such as accuracy, f1-score, or roc-auc.\n",
    "\n",
    "3. Once you have a trained model and a performance metric, you can use the permutation_importance function from the sklearn.inspection library to measure the importance of each feature. This function takes the trained model, the input data, and the target variable as arguments."
   ]
  },
  {
   "cell_type": "code",
   "execution_count": 392,
   "metadata": {},
   "outputs": [],
   "source": [
    "# from sklearn.model_selection import train_test_split\n",
    "\n",
    "# X_train, X_test, y_train, y_test = train_test_split(X, y, shuffle=True, train_size=0.9, random_state=42)"
   ]
  },
  {
   "cell_type": "code",
   "execution_count": 393,
   "metadata": {},
   "outputs": [],
   "source": [
    "from sklearn.compose import make_column_selector, ColumnTransformer, make_column_transformer\n",
    "# sklearn.compose: The sklearn.compose module is a submodule of the sklearn library for machine learning in Python. It provides functions for creating complex preprocessing and modeling pipelines.\n",
    "from sklearn.preprocessing import OneHotEncoder,StandardScaler,PolynomialFeatures,RobustScaler\n",
    "#sklearn.preprocessing: The sklearn.preprocessing module is a submodule of the sklearn library that provides functions for preprocessing data, such as scaling and normalizing features, imputing missing values, and encoding categorical variables.\n",
    "from sklearn.linear_model import Ridge,LinearRegression,Lasso, ElasticNet\n",
    "# sklearn.linear_model: The sklearn.linear_model module is a submodule of the sklearn library that provides functions for fitting linear models for regression and classification.\n",
    "from sklearn.pipeline import make_pipeline\n",
    "# sklearn.pipeline: The sklearn.pipeline module is a submodule of the sklearn library that provides functions for creating and working with pipelines of transformers and models.\n",
    "from sklearn.model_selection import train_test_split,GridSearchCV,learning_curve, RandomizedSearchCV, cross_val_score, KFold\n",
    "# sklearn.model_selection: The sklearn.model_selection module is a submodule of the sklearn library that provides functions for splitting data into training and test sets, evaluating models using cross-validation, and hyperparameter tuning.\n",
    "from sklearn.dummy import DummyRegressor\n",
    "# sklearn.dummy: The sklearn.dummy module is a submodule of the sklearn library that provides simple dummy models for regression and classification.\n",
    "\n",
    "\n",
    "from sklearn.impute import SimpleImputer\n",
    "import numpy as np\n",
    "\n",
    "def make_pipeline_to_ML(X,y):\n",
    "    X_train, X_test, y_train, y_test = train_test_split(X, y, shuffle=True, train_size=0.8, random_state=42)\n",
    "    numerical_features = make_column_selector(dtype_include=np.number)\n",
    "    categorical_features = make_column_selector(dtype_exclude= np.number)\n",
    "    numerical_pipeline = make_pipeline(SimpleImputer(strategy='mean'),StandardScaler(with_mean=False))\n",
    "    categorical_pipeline = make_pipeline(SimpleImputer(strategy='most_frequent'),OneHotEncoder(handle_unknown='ignore'))\n",
    "    preprocessor = make_column_transformer((numerical_pipeline, numerical_features),\n",
    "                                    (categorical_pipeline, categorical_features)\n",
    "                                    )\n",
    "    return preprocessor, X_train, X_test, y_train, y_test\n",
    "\n",
    "\n",
    "# Create the pipeline\n",
    "preprocessor, X_train, X_test, y_train, y_test = make_pipeline_to_ML(X,y)"
   ]
  },
  {
   "attachments": {},
   "cell_type": "markdown",
   "metadata": {},
   "source": [
    "# RandomForest\n",
    "![forest](https://thumbs.gfycat.com/UncomfortableWelllitDrever-size_restricted.gif)"
   ]
  },
  {
   "cell_type": "code",
   "execution_count": 403,
   "metadata": {},
   "outputs": [
    {
     "name": "stdout",
     "output_type": "stream",
     "text": [
      "Accuracy: 0.8581369816738451\n"
     ]
    }
   ],
   "source": [
    "from sklearn.ensemble import RandomForestClassifier\n",
    "\n",
    "\n",
    "# Add the RandomForestClassifier to the pipeline\n",
    "clf = make_pipeline(preprocessor, RandomForestClassifier(random_state=42, max_depth = 10, class_weight='balanced'))\n",
    "\n",
    "# Fit the pipeline on the training data\n",
    "clf.fit(X_train, y_train)\n",
    "\n",
    "# Predict on the test data\n",
    "y_pred = clf.predict(X_test)\n",
    "\n",
    "#Import scikit-learn metrics module for accuracy calculation\n",
    "from sklearn import metrics\n",
    "\n",
    "# Model Accuracy, how often is the classifier correct?\n",
    "print(\"Accuracy:\",metrics.accuracy_score(y_test, y_pred))\n"
   ]
  },
  {
   "cell_type": "code",
   "execution_count": 404,
   "metadata": {},
   "outputs": [
    {
     "name": "stdout",
     "output_type": "stream",
     "text": [
      "Accuracy:               precision    recall  f1-score   support\n",
      "\n",
      "      CHGOFF       0.57      0.83      0.67     31281\n",
      "       P I F       0.96      0.86      0.91    146334\n",
      "\n",
      "    accuracy                           0.86    177615\n",
      "   macro avg       0.76      0.85      0.79    177615\n",
      "weighted avg       0.89      0.86      0.87    177615\n",
      "\n"
     ]
    }
   ],
   "source": [
    "print(\"Accuracy:\",metrics.classification_report(y_test, y_pred))"
   ]
  },
  {
   "cell_type": "code",
   "execution_count": 398,
   "metadata": {},
   "outputs": [],
   "source": [
    "# create a new dataframe with feature names as index and feature importances as values\n",
    "df_importances = pd.DataFrame({'feature_importance': clf.steps[1][1].feature_importances_}, index=clf.steps[0][1].get_feature_names_out())\n",
    "\n",
    "# sort the dataframe by feature importances\n",
    "df_importances.sort_values(by='feature_importance', ascending=False, inplace=True)"
   ]
  },
  {
   "cell_type": "code",
   "execution_count": 400,
   "metadata": {},
   "outputs": [
    {
     "data": {
      "text/html": [
       "<div>\n",
       "<style scoped>\n",
       "    .dataframe tbody tr th:only-of-type {\n",
       "        vertical-align: middle;\n",
       "    }\n",
       "\n",
       "    .dataframe tbody tr th {\n",
       "        vertical-align: top;\n",
       "    }\n",
       "\n",
       "    .dataframe thead th {\n",
       "        text-align: right;\n",
       "    }\n",
       "</style>\n",
       "<table border=\"1\" class=\"dataframe\">\n",
       "  <thead>\n",
       "    <tr style=\"text-align: right;\">\n",
       "      <th></th>\n",
       "      <th>feature_importance</th>\n",
       "    </tr>\n",
       "  </thead>\n",
       "  <tbody>\n",
       "    <tr>\n",
       "      <th>pipeline-1__Term</th>\n",
       "      <td>0.439898</td>\n",
       "    </tr>\n",
       "    <tr>\n",
       "      <th>pipeline-1__ApprovalFY</th>\n",
       "      <td>0.147669</td>\n",
       "    </tr>\n",
       "    <tr>\n",
       "      <th>pipeline-1__FranchiseCode</th>\n",
       "      <td>0.103624</td>\n",
       "    </tr>\n",
       "    <tr>\n",
       "      <th>pipeline-1__UrbanRural</th>\n",
       "      <td>0.069695</td>\n",
       "    </tr>\n",
       "    <tr>\n",
       "      <th>pipeline-1__GrAppv</th>\n",
       "      <td>0.062975</td>\n",
       "    </tr>\n",
       "    <tr>\n",
       "      <th>pipeline-1__NoEmp</th>\n",
       "      <td>0.024683</td>\n",
       "    </tr>\n",
       "    <tr>\n",
       "      <th>pipeline-2__RevLineCr_Y</th>\n",
       "      <td>0.022284</td>\n",
       "    </tr>\n",
       "    <tr>\n",
       "      <th>pipeline-2__RevLineCr_N</th>\n",
       "      <td>0.021731</td>\n",
       "    </tr>\n",
       "    <tr>\n",
       "      <th>pipeline-2__NAICS_0</th>\n",
       "      <td>0.019625</td>\n",
       "    </tr>\n",
       "    <tr>\n",
       "      <th>pipeline-2__Categorie_NAICS_Other</th>\n",
       "      <td>0.019465</td>\n",
       "    </tr>\n",
       "    <tr>\n",
       "      <th>pipeline-2__LowDoc_Y</th>\n",
       "      <td>0.012001</td>\n",
       "    </tr>\n",
       "    <tr>\n",
       "      <th>pipeline-2__NAICS_62</th>\n",
       "      <td>0.007786</td>\n",
       "    </tr>\n",
       "    <tr>\n",
       "      <th>pipeline-2__LowDoc_N</th>\n",
       "      <td>0.006633</td>\n",
       "    </tr>\n",
       "    <tr>\n",
       "      <th>pipeline-1__CreateJob</th>\n",
       "      <td>0.006368</td>\n",
       "    </tr>\n",
       "    <tr>\n",
       "      <th>pipeline-2__State_FL</th>\n",
       "      <td>0.005770</td>\n",
       "    </tr>\n",
       "    <tr>\n",
       "      <th>pipeline-2__Categorie_NAICS_Health care and social assistance</th>\n",
       "      <td>0.004146</td>\n",
       "    </tr>\n",
       "    <tr>\n",
       "      <th>pipeline-2__State_CA</th>\n",
       "      <td>0.002886</td>\n",
       "    </tr>\n",
       "    <tr>\n",
       "      <th>pipeline-2__Categorie_NAICS_Retail trade</th>\n",
       "      <td>0.002442</td>\n",
       "    </tr>\n",
       "    <tr>\n",
       "      <th>pipeline-2__State_GA</th>\n",
       "      <td>0.001908</td>\n",
       "    </tr>\n",
       "    <tr>\n",
       "      <th>pipeline-2__Categorie_NAICS_Accommodation and food services</th>\n",
       "      <td>0.001793</td>\n",
       "    </tr>\n",
       "  </tbody>\n",
       "</table>\n",
       "</div>"
      ],
      "text/plain": [
       "                                                    feature_importance\n",
       "pipeline-1__Term                                              0.439898\n",
       "pipeline-1__ApprovalFY                                        0.147669\n",
       "pipeline-1__FranchiseCode                                     0.103624\n",
       "pipeline-1__UrbanRural                                        0.069695\n",
       "pipeline-1__GrAppv                                            0.062975\n",
       "pipeline-1__NoEmp                                             0.024683\n",
       "pipeline-2__RevLineCr_Y                                       0.022284\n",
       "pipeline-2__RevLineCr_N                                       0.021731\n",
       "pipeline-2__NAICS_0                                           0.019625\n",
       "pipeline-2__Categorie_NAICS_Other                             0.019465\n",
       "pipeline-2__LowDoc_Y                                          0.012001\n",
       "pipeline-2__NAICS_62                                          0.007786\n",
       "pipeline-2__LowDoc_N                                          0.006633\n",
       "pipeline-1__CreateJob                                         0.006368\n",
       "pipeline-2__State_FL                                          0.005770\n",
       "pipeline-2__Categorie_NAICS_Health care and soc...            0.004146\n",
       "pipeline-2__State_CA                                          0.002886\n",
       "pipeline-2__Categorie_NAICS_Retail trade                      0.002442\n",
       "pipeline-2__State_GA                                          0.001908\n",
       "pipeline-2__Categorie_NAICS_Accommodation and f...            0.001793"
      ]
     },
     "execution_count": 400,
     "metadata": {},
     "output_type": "execute_result"
    }
   ],
   "source": [
    "df_importances.head(20)"
   ]
  },
  {
   "cell_type": "code",
   "execution_count": 375,
   "metadata": {},
   "outputs": [],
   "source": [
    "# data = list(zip(clf.feature_names_in_, clf.steps[1][1].feature_importances_))\n",
    "# df_importances = pd.DataFrame(data, columns=['Feature', 'Importance']).sort_values(by='Importance', ascending=False)\n",
    "# df_importances"
   ]
  }
 ],
 "metadata": {
  "kernelspec": {
   "display_name": "Python 3",
   "language": "python",
   "name": "python3"
  },
  "language_info": {
   "codemirror_mode": {
    "name": "ipython",
    "version": 3
   },
   "file_extension": ".py",
   "mimetype": "text/x-python",
   "name": "python",
   "nbconvert_exporter": "python",
   "pygments_lexer": "ipython3",
   "version": "3.10.6"
  },
  "orig_nbformat": 4,
  "vscode": {
   "interpreter": {
    "hash": "916dbcbb3f70747c44a77c7bcd40155683ae19c65e1c03b4aa3499c5328201f1"
   }
  }
 },
 "nbformat": 4,
 "nbformat_minor": 2
}
