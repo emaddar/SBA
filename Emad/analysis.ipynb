{
 "cells": [
  {
   "cell_type": "markdown",
   "metadata": {},
   "source": [
    "# SBA"
   ]
  },
  {
   "cell_type": "markdown",
   "metadata": {},
   "source": [
    "# import packages"
   ]
  },
  {
   "cell_type": "code",
   "execution_count": 77,
   "metadata": {},
   "outputs": [],
   "source": [
    "import pandas as pd\n",
    "import matplotlib.pyplot as plt\n",
    "import sweetviz as sv\n",
    "import missingno as msno\n",
    "import time \n",
    "import sys\n",
    "import os\n",
    "import csv\n",
    "from bs4 import BeautifulSoup\n",
    "import requests\n",
    "import re"
   ]
  },
  {
   "cell_type": "markdown",
   "metadata": {},
   "source": [
    "![SBA](https://youth.gov/sites/default/files/2021-08/SBA-Formatted.gif)"
   ]
  },
  {
   "cell_type": "markdown",
   "metadata": {},
   "source": [
    "## Read Data"
   ]
  },
  {
   "cell_type": "code",
   "execution_count": 78,
   "metadata": {},
   "outputs": [
    {
     "name": "stderr",
     "output_type": "stream",
     "text": [
      "<ipython-input-78-adfed659cc97>:2: DtypeWarning: Columns (9) have mixed types. Specify dtype option on import or set low_memory=False.\n",
      "  df = pd.read_csv('C:/Users/emada/Downloads/loan_project (1)/SBAnational.csv')\n"
     ]
    }
   ],
   "source": [
    "#df = pd.read_csv('/home/apprenant/Documents/archive/SBAnational.csv')\n",
    "df = pd.read_csv('C:/Users/emada/Downloads/loan_project (1)/SBAnational.csv')"
   ]
  },
  {
   "cell_type": "code",
   "execution_count": 79,
   "metadata": {},
   "outputs": [
    {
     "name": "stdout",
     "output_type": "stream",
     "text": [
      "<class 'pandas.core.frame.DataFrame'>\n",
      "RangeIndex: 899164 entries, 0 to 899163\n",
      "Data columns (total 27 columns):\n",
      " #   Column             Non-Null Count   Dtype  \n",
      "---  ------             --------------   -----  \n",
      " 0   LoanNr_ChkDgt      899164 non-null  int64  \n",
      " 1   Name               899150 non-null  object \n",
      " 2   City               899134 non-null  object \n",
      " 3   State              899150 non-null  object \n",
      " 4   Zip                899164 non-null  int64  \n",
      " 5   Bank               897605 non-null  object \n",
      " 6   BankState          897598 non-null  object \n",
      " 7   NAICS              899164 non-null  int64  \n",
      " 8   ApprovalDate       899164 non-null  object \n",
      " 9   ApprovalFY         899164 non-null  object \n",
      " 10  Term               899164 non-null  int64  \n",
      " 11  NoEmp              899164 non-null  int64  \n",
      " 12  NewExist           899028 non-null  float64\n",
      " 13  CreateJob          899164 non-null  int64  \n",
      " 14  RetainedJob        899164 non-null  int64  \n",
      " 15  FranchiseCode      899164 non-null  int64  \n",
      " 16  UrbanRural         899164 non-null  int64  \n",
      " 17  RevLineCr          894636 non-null  object \n",
      " 18  LowDoc             896582 non-null  object \n",
      " 19  ChgOffDate         162699 non-null  object \n",
      " 20  DisbursementDate   896796 non-null  object \n",
      " 21  DisbursementGross  899164 non-null  object \n",
      " 22  BalanceGross       899164 non-null  object \n",
      " 23  MIS_Status         897167 non-null  object \n",
      " 24  ChgOffPrinGr       899164 non-null  object \n",
      " 25  GrAppv             899164 non-null  object \n",
      " 26  SBA_Appv           899164 non-null  object \n",
      "dtypes: float64(1), int64(9), object(17)\n",
      "memory usage: 185.2+ MB\n"
     ]
    }
   ],
   "source": [
    "df.info()"
   ]
  },
  {
   "cell_type": "markdown",
   "metadata": {},
   "source": [
    "### Remove \"A\" in \"ApprovalFY\" column and replace it with \"\" then change type to int"
   ]
  },
  {
   "cell_type": "code",
   "execution_count": 80,
   "metadata": {},
   "outputs": [
    {
     "name": "stdout",
     "output_type": "stream",
     "text": [
      "3.64 ms ± 399 µs per loop (mean ± std. dev. of 7 runs, 1 loop each)\n"
     ]
    }
   ],
   "source": [
    "%%timeit\n",
    "df['ApprovalFY'] = df['ApprovalFY'].replace('A', '', regex=True).astype(int)"
   ]
  },
  {
   "cell_type": "markdown",
   "metadata": {},
   "source": [
    "### Creat sweetvis Repport\n",
    "![sweetvis](https://warehouse-camo.ingress.cmh1.psfhosted.org/210c4eb7317c8b0d2e7d0784b1a9697c096050ef/687474703a2f2f636f6f6c74696d696e672e636f6d2f53562f4c61796f75742d416e696d332e676966)"
   ]
  },
  {
   "cell_type": "code",
   "execution_count": 81,
   "metadata": {},
   "outputs": [],
   "source": [
    "# report = sv.analyze(df)\n",
    "# report.show_html('report.html')\n"
   ]
  },
  {
   "cell_type": "markdown",
   "metadata": {},
   "source": [
    "##  The target feature (y) is : MSI_Status (CHGOFF and PIF)"
   ]
  },
  {
   "cell_type": "code",
   "execution_count": 82,
   "metadata": {},
   "outputs": [
    {
     "data": {
      "text/plain": [
       "P I F     739609\n",
       "CHGOFF    157558\n",
       "Name: MIS_Status, dtype: int64"
      ]
     },
     "execution_count": 82,
     "metadata": {},
     "output_type": "execute_result"
    }
   ],
   "source": [
    "df['MIS_Status'].value_counts()"
   ]
  },
  {
   "cell_type": "markdown",
   "metadata": {},
   "source": [
    "### Data cleaning"
   ]
  },
  {
   "cell_type": "code",
   "execution_count": 83,
   "metadata": {},
   "outputs": [
    {
     "data": {
      "text/html": [
       "<div>\n",
       "<style scoped>\n",
       "    .dataframe tbody tr th:only-of-type {\n",
       "        vertical-align: middle;\n",
       "    }\n",
       "\n",
       "    .dataframe tbody tr th {\n",
       "        vertical-align: top;\n",
       "    }\n",
       "\n",
       "    .dataframe thead th {\n",
       "        text-align: right;\n",
       "    }\n",
       "</style>\n",
       "<table border=\"1\" class=\"dataframe\">\n",
       "  <thead>\n",
       "    <tr style=\"text-align: right;\">\n",
       "      <th></th>\n",
       "      <th>LoanNr_ChkDgt</th>\n",
       "      <th>Zip</th>\n",
       "      <th>NAICS</th>\n",
       "      <th>ApprovalFY</th>\n",
       "      <th>Term</th>\n",
       "      <th>NoEmp</th>\n",
       "      <th>NewExist</th>\n",
       "      <th>CreateJob</th>\n",
       "      <th>RetainedJob</th>\n",
       "      <th>FranchiseCode</th>\n",
       "      <th>UrbanRural</th>\n",
       "    </tr>\n",
       "  </thead>\n",
       "  <tbody>\n",
       "    <tr>\n",
       "      <th>count</th>\n",
       "      <td>8.991640e+05</td>\n",
       "      <td>899164.000000</td>\n",
       "      <td>899164.000000</td>\n",
       "      <td>899164.000000</td>\n",
       "      <td>899164.000000</td>\n",
       "      <td>899164.000000</td>\n",
       "      <td>899028.000000</td>\n",
       "      <td>899164.000000</td>\n",
       "      <td>899164.000000</td>\n",
       "      <td>899164.000000</td>\n",
       "      <td>899164.000000</td>\n",
       "    </tr>\n",
       "    <tr>\n",
       "      <th>mean</th>\n",
       "      <td>4.772612e+09</td>\n",
       "      <td>53804.391241</td>\n",
       "      <td>398660.950146</td>\n",
       "      <td>2001.143560</td>\n",
       "      <td>110.773078</td>\n",
       "      <td>11.411353</td>\n",
       "      <td>1.280404</td>\n",
       "      <td>8.430376</td>\n",
       "      <td>10.797257</td>\n",
       "      <td>2753.725933</td>\n",
       "      <td>0.757748</td>\n",
       "    </tr>\n",
       "    <tr>\n",
       "      <th>std</th>\n",
       "      <td>2.538175e+09</td>\n",
       "      <td>31184.159152</td>\n",
       "      <td>263318.312759</td>\n",
       "      <td>5.913846</td>\n",
       "      <td>78.857305</td>\n",
       "      <td>74.108196</td>\n",
       "      <td>0.451750</td>\n",
       "      <td>236.688165</td>\n",
       "      <td>237.120600</td>\n",
       "      <td>12758.019136</td>\n",
       "      <td>0.646436</td>\n",
       "    </tr>\n",
       "    <tr>\n",
       "      <th>min</th>\n",
       "      <td>1.000014e+09</td>\n",
       "      <td>0.000000</td>\n",
       "      <td>0.000000</td>\n",
       "      <td>1962.000000</td>\n",
       "      <td>0.000000</td>\n",
       "      <td>0.000000</td>\n",
       "      <td>0.000000</td>\n",
       "      <td>0.000000</td>\n",
       "      <td>0.000000</td>\n",
       "      <td>0.000000</td>\n",
       "      <td>0.000000</td>\n",
       "    </tr>\n",
       "    <tr>\n",
       "      <th>25%</th>\n",
       "      <td>2.589758e+09</td>\n",
       "      <td>27587.000000</td>\n",
       "      <td>235210.000000</td>\n",
       "      <td>1997.000000</td>\n",
       "      <td>60.000000</td>\n",
       "      <td>2.000000</td>\n",
       "      <td>1.000000</td>\n",
       "      <td>0.000000</td>\n",
       "      <td>0.000000</td>\n",
       "      <td>1.000000</td>\n",
       "      <td>0.000000</td>\n",
       "    </tr>\n",
       "    <tr>\n",
       "      <th>50%</th>\n",
       "      <td>4.361439e+09</td>\n",
       "      <td>55410.000000</td>\n",
       "      <td>445310.000000</td>\n",
       "      <td>2002.000000</td>\n",
       "      <td>84.000000</td>\n",
       "      <td>4.000000</td>\n",
       "      <td>1.000000</td>\n",
       "      <td>0.000000</td>\n",
       "      <td>1.000000</td>\n",
       "      <td>1.000000</td>\n",
       "      <td>1.000000</td>\n",
       "    </tr>\n",
       "    <tr>\n",
       "      <th>75%</th>\n",
       "      <td>6.904627e+09</td>\n",
       "      <td>83704.000000</td>\n",
       "      <td>561730.000000</td>\n",
       "      <td>2006.000000</td>\n",
       "      <td>120.000000</td>\n",
       "      <td>10.000000</td>\n",
       "      <td>2.000000</td>\n",
       "      <td>1.000000</td>\n",
       "      <td>4.000000</td>\n",
       "      <td>1.000000</td>\n",
       "      <td>1.000000</td>\n",
       "    </tr>\n",
       "    <tr>\n",
       "      <th>max</th>\n",
       "      <td>9.996003e+09</td>\n",
       "      <td>99999.000000</td>\n",
       "      <td>928120.000000</td>\n",
       "      <td>2014.000000</td>\n",
       "      <td>569.000000</td>\n",
       "      <td>9999.000000</td>\n",
       "      <td>2.000000</td>\n",
       "      <td>8800.000000</td>\n",
       "      <td>9500.000000</td>\n",
       "      <td>99999.000000</td>\n",
       "      <td>2.000000</td>\n",
       "    </tr>\n",
       "  </tbody>\n",
       "</table>\n",
       "</div>"
      ],
      "text/plain": [
       "       LoanNr_ChkDgt            Zip          NAICS     ApprovalFY  \\\n",
       "count   8.991640e+05  899164.000000  899164.000000  899164.000000   \n",
       "mean    4.772612e+09   53804.391241  398660.950146    2001.143560   \n",
       "std     2.538175e+09   31184.159152  263318.312759       5.913846   \n",
       "min     1.000014e+09       0.000000       0.000000    1962.000000   \n",
       "25%     2.589758e+09   27587.000000  235210.000000    1997.000000   \n",
       "50%     4.361439e+09   55410.000000  445310.000000    2002.000000   \n",
       "75%     6.904627e+09   83704.000000  561730.000000    2006.000000   \n",
       "max     9.996003e+09   99999.000000  928120.000000    2014.000000   \n",
       "\n",
       "                Term          NoEmp       NewExist      CreateJob  \\\n",
       "count  899164.000000  899164.000000  899028.000000  899164.000000   \n",
       "mean      110.773078      11.411353       1.280404       8.430376   \n",
       "std        78.857305      74.108196       0.451750     236.688165   \n",
       "min         0.000000       0.000000       0.000000       0.000000   \n",
       "25%        60.000000       2.000000       1.000000       0.000000   \n",
       "50%        84.000000       4.000000       1.000000       0.000000   \n",
       "75%       120.000000      10.000000       2.000000       1.000000   \n",
       "max       569.000000    9999.000000       2.000000    8800.000000   \n",
       "\n",
       "         RetainedJob  FranchiseCode     UrbanRural  \n",
       "count  899164.000000  899164.000000  899164.000000  \n",
       "mean       10.797257    2753.725933       0.757748  \n",
       "std       237.120600   12758.019136       0.646436  \n",
       "min         0.000000       0.000000       0.000000  \n",
       "25%         0.000000       1.000000       0.000000  \n",
       "50%         1.000000       1.000000       1.000000  \n",
       "75%         4.000000       1.000000       1.000000  \n",
       "max      9500.000000   99999.000000       2.000000  "
      ]
     },
     "execution_count": 83,
     "metadata": {},
     "output_type": "execute_result"
    }
   ],
   "source": [
    "df.describe()"
   ]
  },
  {
   "cell_type": "code",
   "execution_count": 84,
   "metadata": {},
   "outputs": [
    {
     "data": {
      "image/png": "[encoded data removed]",
      "text/plain": [
       "<Figure size 1800x720 with 2 Axes>"
      ]
     },
     "metadata": {
      "needs_background": "light"
     },
     "output_type": "display_data"
    }
   ],
   "source": [
    "msno.matrix(df);"
   ]
  },
  {
   "cell_type": "code",
   "execution_count": 85,
   "metadata": {},
   "outputs": [
    {
     "name": "stdout",
     "output_type": "stream",
     "text": [
      "LoanNr_ChkDgt             0\n",
      "Name                     14\n",
      "City                     30\n",
      "State                    14\n",
      "Zip                       0\n",
      "Bank                   1559\n",
      "BankState              1566\n",
      "NAICS                     0\n",
      "ApprovalDate              0\n",
      "ApprovalFY                0\n",
      "Term                      0\n",
      "NoEmp                     0\n",
      "NewExist                136\n",
      "CreateJob                 0\n",
      "RetainedJob               0\n",
      "FranchiseCode             0\n",
      "UrbanRural                0\n",
      "RevLineCr              4528\n",
      "LowDoc                 2582\n",
      "ChgOffDate           736465\n",
      "DisbursementDate       2368\n",
      "DisbursementGross         0\n",
      "BalanceGross              0\n",
      "MIS_Status             1997\n",
      "ChgOffPrinGr              0\n",
      "GrAppv                    0\n",
      "SBA_Appv                  0\n",
      "dtype: int64\n"
     ]
    }
   ],
   "source": [
    "print(df.isnull().sum())"
   ]
  },
  {
   "cell_type": "markdown",
   "metadata": {},
   "source": [
    "### Replace \"$\" with \"\" in numeric columns"
   ]
  },
  {
   "cell_type": "code",
   "execution_count": 86,
   "metadata": {},
   "outputs": [
    {
     "name": "stderr",
     "output_type": "stream",
     "text": [
      "<ipython-input-86-2538c257e751>:6: FutureWarning: The default value of regex will change from True to False in a future version. In addition, single character regular expressions will *not* be treated as literal strings when regex=True.\n",
      "  df[col] = df[col].str.replace(\"$\", \"\")\n"
     ]
    }
   ],
   "source": [
    "# create a list of all numeric columns\n",
    "columns_to_transform_to_int = [\"DisbursementGross\",\"BalanceGross\",\"ChgOffPrinGr\",\"GrAppv\",\"SBA_Appv\"]\n",
    "\n",
    "\n",
    "for col in columns_to_transform_to_int:\n",
    "    df[col] = df[col].str.replace(\"$\", \"\")\n",
    "    df[col] = df[col].str.replace(\",\", \"\")\n",
    "    df[col] = df[col].astype(float)\n",
    "    \n",
    "\n",
    "df['Term'] = df['Term'].astype(int)"
   ]
  },
  {
   "cell_type": "markdown",
   "metadata": {},
   "source": [
    "## Cleaning LowDoc column"
   ]
  },
  {
   "cell_type": "code",
   "execution_count": 87,
   "metadata": {},
   "outputs": [
    {
     "data": {
      "text/plain": [
       "N    784313\n",
       "Y    110335\n",
       "C       758\n",
       "S       603\n",
       "A       497\n",
       "R        75\n",
       "1         1\n",
       "Name: LowDoc, dtype: int64"
      ]
     },
     "execution_count": 87,
     "metadata": {},
     "output_type": "execute_result"
    }
   ],
   "source": [
    "df['LowDoc'] = df['LowDoc'].replace({'0': 'N'})\n",
    "df['LowDoc'].value_counts()"
   ]
  },
  {
   "cell_type": "markdown",
   "metadata": {},
   "source": [
    "#### Keep only \"N\" and \"Y\""
   ]
  },
  {
   "cell_type": "code",
   "execution_count": 88,
   "metadata": {},
   "outputs": [
    {
     "data": {
      "text/plain": [
       "N    784313\n",
       "Y    110335\n",
       "Name: LowDoc, dtype: int64"
      ]
     },
     "execution_count": 88,
     "metadata": {},
     "output_type": "execute_result"
    }
   ],
   "source": [
    "df = df[df['LowDoc'].isin(['N','Y'])]\n",
    "df['LowDoc'].value_counts()"
   ]
  },
  {
   "cell_type": "markdown",
   "metadata": {},
   "source": [
    "## Cleaning RevLineCr column"
   ]
  },
  {
   "cell_type": "code",
   "execution_count": 89,
   "metadata": {},
   "outputs": [
    {
     "data": {
      "text/plain": [
       "N    674362\n",
       "Y    215694\n",
       "1        23\n",
       "R        14\n",
       "`        11\n",
       "2         6\n",
       "C         2\n",
       ",         1\n",
       "3         1\n",
       "7         1\n",
       "A         1\n",
       "5         1\n",
       ".         1\n",
       "4         1\n",
       "-         1\n",
       "Q         1\n",
       "Name: RevLineCr, dtype: int64"
      ]
     },
     "execution_count": 89,
     "metadata": {},
     "output_type": "execute_result"
    }
   ],
   "source": [
    "df['RevLineCr'] = df['RevLineCr'].replace({'0': 'N', 'T':'Y'})\n",
    "df['RevLineCr'].value_counts()"
   ]
  },
  {
   "cell_type": "markdown",
   "metadata": {},
   "source": [
    "#### Keep only \"N\" and \"Y\""
   ]
  },
  {
   "cell_type": "code",
   "execution_count": 90,
   "metadata": {},
   "outputs": [
    {
     "data": {
      "text/plain": [
       "N    674362\n",
       "Y    215694\n",
       "Name: RevLineCr, dtype: int64"
      ]
     },
     "execution_count": 90,
     "metadata": {},
     "output_type": "execute_result"
    }
   ],
   "source": [
    "df = df[df['RevLineCr'].isin(['N','Y'])]\n",
    "df['RevLineCr'].value_counts()"
   ]
  },
  {
   "cell_type": "markdown",
   "metadata": {},
   "source": [
    "### Find State's df missing values using Zip codes"
   ]
  },
  {
   "cell_type": "code",
   "execution_count": 91,
   "metadata": {},
   "outputs": [
    {
     "name": "stderr",
     "output_type": "stream",
     "text": [
      "<ipython-input-91-f2b32f71cbdf>:31: SettingWithCopyWarning: \n",
      "A value is trying to be set on a copy of a slice from a DataFrame.\n",
      "Try using .loc[row_indexer,col_indexer] = value instead\n",
      "\n",
      "See the caveats in the documentation: https://pandas.pydata.org/pandas-docs/stable/user_guide/indexing.html#returning-a-view-versus-a-copy\n",
      "  missing_state_rows['State'] = missing_state_rows['Zip'].apply(lambda x: getCityState(x))\n"
     ]
    },
    {
     "data": {
      "text/html": [
       "<div>\n",
       "<style scoped>\n",
       "    .dataframe tbody tr th:only-of-type {\n",
       "        vertical-align: middle;\n",
       "    }\n",
       "\n",
       "    .dataframe tbody tr th {\n",
       "        vertical-align: top;\n",
       "    }\n",
       "\n",
       "    .dataframe thead th {\n",
       "        text-align: right;\n",
       "    }\n",
       "</style>\n",
       "<table border=\"1\" class=\"dataframe\">\n",
       "  <thead>\n",
       "    <tr style=\"text-align: right;\">\n",
       "      <th></th>\n",
       "      <th>LoanNr_ChkDgt</th>\n",
       "      <th>Name</th>\n",
       "      <th>City</th>\n",
       "      <th>State</th>\n",
       "      <th>Zip</th>\n",
       "      <th>Bank</th>\n",
       "      <th>BankState</th>\n",
       "      <th>NAICS</th>\n",
       "      <th>ApprovalDate</th>\n",
       "      <th>ApprovalFY</th>\n",
       "      <th>...</th>\n",
       "      <th>RevLineCr</th>\n",
       "      <th>LowDoc</th>\n",
       "      <th>ChgOffDate</th>\n",
       "      <th>DisbursementDate</th>\n",
       "      <th>DisbursementGross</th>\n",
       "      <th>BalanceGross</th>\n",
       "      <th>MIS_Status</th>\n",
       "      <th>ChgOffPrinGr</th>\n",
       "      <th>GrAppv</th>\n",
       "      <th>SBA_Appv</th>\n",
       "    </tr>\n",
       "  </thead>\n",
       "  <tbody>\n",
       "    <tr>\n",
       "      <th>35517</th>\n",
       "      <td>1.270833e+09</td>\n",
       "      <td>SO. JERSEY DANCE/MERRYLEES</td>\n",
       "      <td>PENNSVILLE</td>\n",
       "      <td>NaN</td>\n",
       "      <td>8070.0</td>\n",
       "      <td>NaN</td>\n",
       "      <td>NaN</td>\n",
       "      <td>0.0</td>\n",
       "      <td>28-Jul-81</td>\n",
       "      <td>1981.0</td>\n",
       "      <td>...</td>\n",
       "      <td>N</td>\n",
       "      <td>N</td>\n",
       "      <td>5-Mar-90</td>\n",
       "      <td>NaN</td>\n",
       "      <td>0.0</td>\n",
       "      <td>0.0</td>\n",
       "      <td>NaN</td>\n",
       "      <td>11364.0</td>\n",
       "      <td>15000.0</td>\n",
       "      <td>15000.0</td>\n",
       "    </tr>\n",
       "    <tr>\n",
       "      <th>49244</th>\n",
       "      <td>1.380800e+09</td>\n",
       "      <td>TRYON COATS &amp; LEATHER</td>\n",
       "      <td>JOHNSTOWN       NY</td>\n",
       "      <td>NaN</td>\n",
       "      <td>0.0</td>\n",
       "      <td>KEYBANK NATIONAL ASSOCIATION</td>\n",
       "      <td>NY</td>\n",
       "      <td>0.0</td>\n",
       "      <td>18-May-66</td>\n",
       "      <td>1966.0</td>\n",
       "      <td>...</td>\n",
       "      <td>N</td>\n",
       "      <td>N</td>\n",
       "      <td>29-Mar-90</td>\n",
       "      <td>16-Aug-66</td>\n",
       "      <td>60000.0</td>\n",
       "      <td>0.0</td>\n",
       "      <td>CHGOFF</td>\n",
       "      <td>6084.0</td>\n",
       "      <td>60000.0</td>\n",
       "      <td>54000.0</td>\n",
       "    </tr>\n",
       "    <tr>\n",
       "      <th>306274</th>\n",
       "      <td>3.113583e+09</td>\n",
       "      <td>THE COMPUTER EDGE</td>\n",
       "      <td>BOX 267, APO  AP</td>\n",
       "      <td>NaN</td>\n",
       "      <td>96205.0</td>\n",
       "      <td>RTC/WESTPORT SAVINGS BANK</td>\n",
       "      <td>CA</td>\n",
       "      <td>541511.0</td>\n",
       "      <td>21-Jan-88</td>\n",
       "      <td>1988.0</td>\n",
       "      <td>...</td>\n",
       "      <td>N</td>\n",
       "      <td>N</td>\n",
       "      <td>18-Sep-93</td>\n",
       "      <td>16-Mar-88</td>\n",
       "      <td>50000.0</td>\n",
       "      <td>0.0</td>\n",
       "      <td>CHGOFF</td>\n",
       "      <td>30589.0</td>\n",
       "      <td>50000.0</td>\n",
       "      <td>45000.0</td>\n",
       "    </tr>\n",
       "  </tbody>\n",
       "</table>\n",
       "<p>3 rows × 27 columns</p>\n",
       "</div>"
      ],
      "text/plain": [
       "        LoanNr_ChkDgt                        Name                City State  \\\n",
       "35517    1.270833e+09  SO. JERSEY DANCE/MERRYLEES          PENNSVILLE   NaN   \n",
       "49244    1.380800e+09       TRYON COATS & LEATHER  JOHNSTOWN       NY   NaN   \n",
       "306274   3.113583e+09           THE COMPUTER EDGE    BOX 267, APO  AP   NaN   \n",
       "\n",
       "            Zip                          Bank BankState     NAICS  \\\n",
       "35517    8070.0                           NaN       NaN       0.0   \n",
       "49244       0.0  KEYBANK NATIONAL ASSOCIATION        NY       0.0   \n",
       "306274  96205.0     RTC/WESTPORT SAVINGS BANK        CA  541511.0   \n",
       "\n",
       "       ApprovalDate  ApprovalFY  ...  RevLineCr  LowDoc  ChgOffDate  \\\n",
       "35517     28-Jul-81      1981.0  ...          N       N    5-Mar-90   \n",
       "49244     18-May-66      1966.0  ...          N       N   29-Mar-90   \n",
       "306274    21-Jan-88      1988.0  ...          N       N   18-Sep-93   \n",
       "\n",
       "        DisbursementDate  DisbursementGross  BalanceGross  MIS_Status  \\\n",
       "35517                NaN                0.0           0.0         NaN   \n",
       "49244          16-Aug-66            60000.0           0.0      CHGOFF   \n",
       "306274         16-Mar-88            50000.0           0.0      CHGOFF   \n",
       "\n",
       "       ChgOffPrinGr   GrAppv SBA_Appv  \n",
       "35517       11364.0  15000.0  15000.0  \n",
       "49244        6084.0  60000.0  54000.0  \n",
       "306274      30589.0  50000.0  45000.0  \n",
       "\n",
       "[3 rows x 27 columns]"
      ]
     },
     "execution_count": 91,
     "metadata": {},
     "output_type": "execute_result"
    }
   ],
   "source": [
    "def getCityState(zipCode):\n",
    "    zipCode = str(zipCode)\n",
    "    url = \"http://www.city-data.com/zips/\" + zipCode + \".html\"\n",
    "    r = requests.get(url)\n",
    "    data = r.text\n",
    "    soup = BeautifulSoup(data)\n",
    "    if soup.findAll(text=\"City:\") ==[]:\n",
    "        cityNeeded = soup.findAll(text=\"Cities:\")\n",
    "        for t in cityNeeded:\n",
    "            city_name = t.find_next('a').string\n",
    "            if city_name:\n",
    "                return city_name\n",
    "                time.sleep(0.5)\n",
    "    else:\n",
    "        cityNeeded = soup.findAll(text=\"City:\")\n",
    "        for t in cityNeeded:\n",
    "            city_name = t.find_next('a').string\n",
    "            if city_name:\n",
    "                return city_name\n",
    "                time.sleep(0.5)\n",
    "    return None\n",
    "\n",
    "\n",
    "df['Zip'] = df['Zip'].astype(int)\n",
    "\n",
    "\n",
    "# Find the rows where the 'State' column is missing\n",
    "missing_state_rows = df[df['State'].isnull()]\n",
    "\n",
    "# Use the 'apply' function to apply the 'getCityState' function to the 'Zip' column of the missing rows\n",
    "missing_state_rows['State'] = missing_state_rows['Zip'].apply(lambda x: getCityState(x))\n",
    "\n",
    "# Update the original DataFrame with the new values for the 'State' column\n",
    "df.update(missing_state_rows)\n",
    "\n",
    "df['State'] = df['State'].str[-2:]\n",
    "\n",
    "\n",
    "df[df['State'].isna()]\n"
   ]
  },
  {
   "attachments": {},
   "cell_type": "markdown",
   "metadata": {},
   "source": [
    "### We still have 3 States missing values bescause of there non valide Zip code"
   ]
  },
  {
   "cell_type": "markdown",
   "metadata": {},
   "source": [
    "## Drop not important features"
   ]
  },
  {
   "cell_type": "code",
   "execution_count": 92,
   "metadata": {},
   "outputs": [],
   "source": [
    "cols_to_drop = ['LoanNr_ChkDgt', 'Name', 'City', 'Zip', 'Bank', 'BankState', 'DisbursementDate', 'ApprovalDate', 'ApprovalFY', 'ChgOffDate']\n",
    "df.drop(columns=cols_to_drop, inplace=True)\n"
   ]
  },
  {
   "cell_type": "markdown",
   "metadata": {},
   "source": [
    "## Drop from df all missing values in columne \"MSI_Status\""
   ]
  },
  {
   "cell_type": "code",
   "execution_count": 93,
   "metadata": {},
   "outputs": [],
   "source": [
    "df.dropna(subset=['MIS_Status'], inplace=True)\n"
   ]
  },
  {
   "cell_type": "code",
   "execution_count": 94,
   "metadata": {},
   "outputs": [
    {
     "data": {
      "image/png": "[encoded data removed]",
      "text/plain": [
       "<Figure size 1800x720 with 2 Axes>"
      ]
     },
     "metadata": {
      "needs_background": "light"
     },
     "output_type": "display_data"
    }
   ],
   "source": [
    "msno.matrix(df);"
   ]
  },
  {
   "cell_type": "code",
   "execution_count": 95,
   "metadata": {},
   "outputs": [
    {
     "data": {
      "text/plain": [
       "State                  2\n",
       "NAICS                  0\n",
       "Term                   0\n",
       "NoEmp                  0\n",
       "NewExist             130\n",
       "CreateJob              0\n",
       "RetainedJob            0\n",
       "FranchiseCode          0\n",
       "UrbanRural             0\n",
       "RevLineCr              0\n",
       "LowDoc                 0\n",
       "DisbursementGross      0\n",
       "BalanceGross           0\n",
       "MIS_Status             0\n",
       "ChgOffPrinGr           0\n",
       "GrAppv                 0\n",
       "SBA_Appv               0\n",
       "dtype: int64"
      ]
     },
     "execution_count": 95,
     "metadata": {},
     "output_type": "execute_result"
    }
   ],
   "source": [
    "df.isna().sum()"
   ]
  },
  {
   "cell_type": "markdown",
   "metadata": {},
   "source": [
    "## Sum of Gross amount of loan approved\n",
    "![All](https://media.tenor.com/6Hixx4SFAeQAAAAM/backing-you-get-yours.gif)"
   ]
  },
  {
   "cell_type": "code",
   "execution_count": 96,
   "metadata": {},
   "outputs": [
    {
     "name": "stdout",
     "output_type": "stream",
     "text": [
      "171633248800.0\n"
     ]
    }
   ],
   "source": [
    "print(df['GrAppv'].sum())"
   ]
  },
  {
   "cell_type": "code",
   "execution_count": 97,
   "metadata": {},
   "outputs": [
    {
     "name": "stdout",
     "output_type": "stream",
     "text": [
      "<class 'pandas.core.frame.DataFrame'>\n",
      "Int64Index: 888074 entries, 0 to 899163\n",
      "Data columns (total 17 columns):\n",
      " #   Column             Non-Null Count   Dtype  \n",
      "---  ------             --------------   -----  \n",
      " 0   State              888072 non-null  object \n",
      " 1   NAICS              888074 non-null  float64\n",
      " 2   Term               888074 non-null  float64\n",
      " 3   NoEmp              888074 non-null  float64\n",
      " 4   NewExist           887944 non-null  float64\n",
      " 5   CreateJob          888074 non-null  float64\n",
      " 6   RetainedJob        888074 non-null  float64\n",
      " 7   FranchiseCode      888074 non-null  float64\n",
      " 8   UrbanRural         888074 non-null  float64\n",
      " 9   RevLineCr          888074 non-null  object \n",
      " 10  LowDoc             888074 non-null  object \n",
      " 11  DisbursementGross  888074 non-null  float64\n",
      " 12  BalanceGross       888074 non-null  float64\n",
      " 13  MIS_Status         888074 non-null  object \n",
      " 14  ChgOffPrinGr       888074 non-null  float64\n",
      " 15  GrAppv             888074 non-null  float64\n",
      " 16  SBA_Appv           888074 non-null  float64\n",
      "dtypes: float64(13), object(4)\n",
      "memory usage: 122.0+ MB\n"
     ]
    }
   ],
   "source": [
    "df.info()"
   ]
  },
  {
   "cell_type": "code",
   "execution_count": 101,
   "metadata": {},
   "outputs": [],
   "source": [
    "\n",
    "fac = df['Term'].factorize()"
   ]
  },
  {
   "cell_type": "code",
   "execution_count": 106,
   "metadata": {},
   "outputs": [
    {
     "data": {
      "text/plain": [
       "888074"
      ]
     },
     "execution_count": 106,
     "metadata": {},
     "output_type": "execute_result"
    }
   ],
   "source": [
    "len(df['Term'])"
   ]
  },
  {
   "cell_type": "code",
   "execution_count": 110,
   "metadata": {},
   "outputs": [
    {
     "data": {
      "text/plain": [
       "Float64Index([ 84.0,  60.0, 180.0, 240.0, 120.0,  45.0, 297.0, 162.0,  12.0,\n",
       "              300.0,\n",
       "              ...\n",
       "              391.0, 511.0, 412.0, 449.0, 403.0, 434.0, 402.0, 423.0, 440.0,\n",
       "              429.0],\n",
       "             dtype='float64', length=411)"
      ]
     },
     "execution_count": 110,
     "metadata": {},
     "output_type": "execute_result"
    }
   ],
   "source": [
    "fac[1]"
   ]
  },
  {
   "cell_type": "code",
   "execution_count": 111,
   "metadata": {},
   "outputs": [
    {
     "name": "stdout",
     "output_type": "stream",
     "text": [
      "<class 'pandas.core.frame.DataFrame'>\n",
      "Int64Index: 888074 entries, 0 to 899163\n",
      "Data columns (total 17 columns):\n",
      " #   Column             Non-Null Count   Dtype  \n",
      "---  ------             --------------   -----  \n",
      " 0   State              888072 non-null  object \n",
      " 1   NAICS              888074 non-null  float64\n",
      " 2   Term               888074 non-null  float64\n",
      " 3   NoEmp              888074 non-null  float64\n",
      " 4   NewExist           887944 non-null  float64\n",
      " 5   CreateJob          888074 non-null  float64\n",
      " 6   RetainedJob        888074 non-null  float64\n",
      " 7   FranchiseCode      888074 non-null  float64\n",
      " 8   UrbanRural         888074 non-null  float64\n",
      " 9   RevLineCr          888074 non-null  object \n",
      " 10  LowDoc             888074 non-null  object \n",
      " 11  DisbursementGross  888074 non-null  float64\n",
      " 12  BalanceGross       888074 non-null  float64\n",
      " 13  MIS_Status         888074 non-null  object \n",
      " 14  ChgOffPrinGr       888074 non-null  float64\n",
      " 15  GrAppv             888074 non-null  float64\n",
      " 16  SBA_Appv           888074 non-null  float64\n",
      "dtypes: float64(13), object(4)\n",
      "memory usage: 122.0+ MB\n"
     ]
    }
   ],
   "source": [
    "df.info()"
   ]
  },
  {
   "cell_type": "code",
   "execution_count": 167,
   "metadata": {},
   "outputs": [],
   "source": [
    "y = df.MIS_Status\n",
    "X = df.drop(columns=['MIS_Status'])"
   ]
  },
  {
   "cell_type": "markdown",
   "metadata": {},
   "source": [
    "# Feature Selection\n",
    "\n",
    "There are several ways to test the feature importance in a machine learning classification model. Some popular methods include:\n",
    "\n",
    "- `Permutation Importance`: This method involves shuffling the values of a single feature and measuring the change in the model's performance. The idea is that if a feature is important, then shuffling its values should have a large impact on the model's performance.\n",
    "\n",
    "- `Feature Importance from Tree-based Models`: Tree-based models like decision trees, random forests, and gradient boosting machines, can directly compute feature importance by looking at how much each feature contributes to the final decision. These models typically have an attribute such as feature_importances_ or coef_ which can be used to extract feature importance.\n",
    "\n",
    "- `Recursive Feature Elimination (RFE)`: This method involves fitting the model with all the features and then recursively removing the feature with the lowest importance until a desired number of features is reached. The final set of features selected by this method is considered to be the most important.\n",
    "\n",
    "- `LASSO Regression`: Lasso regression is a linear model that can be used for feature selection. It works by adding a penalty term to the linear regression model that shrinks the coefficients of less important features towards zero.\n",
    "\n",
    "- `Partial dependence plots`: These plots show the relationship between a feature and the model's predictions. They can be used to understand how a feature affects the model's predictions and identify the most important features.\n",
    "\n",
    "These are just a few of the many methods available for testing feature importance. The best method to use will depend on the specific model and dataset you're working with.\n",
    "\n",
    "It's worth to mention that, feature importance can be influenced by the data distribution, data scale, data leakage, the model used, and the evaluation metric. Therefore, it's important to be careful interpreting the results of feature importance, and to use other techniques like cross-validation, permutation test, and visualization to confirm the feature importance."
   ]
  },
  {
   "attachments": {},
   "cell_type": "markdown",
   "metadata": {},
   "source": [
    "### Permutation Importance \n",
    "is a technique you can use to determine the importance of each feature in your dataset. Here's an example of how you can implement permutation importance with your binary classification dataset:\n",
    "\n",
    "1. First, you'll need to train a model on your dataset. For example, you can use a RandomForestClassifier or any other classifier model of your choice.\n",
    "\n",
    "2. Next, you'll want to evaluate the model's performance using a performance metric such as accuracy, f1-score, or roc-auc.\n",
    "\n",
    "3. Once you have a trained model and a performance metric, you can use the permutation_importance function from the sklearn.inspection library to measure the importance of each feature. This function takes the trained model, the input data, and the target variable as arguments."
   ]
  },
  {
   "cell_type": "code",
   "execution_count": 168,
   "metadata": {},
   "outputs": [],
   "source": [
    "from sklearn.model_selection import train_test_split\n",
    "\n",
    "X_train, X_test, y_train, y_test = train_test_split(X, y, shuffle=True, train_size=0.9, random_state=42)"
   ]
  },
  {
   "cell_type": "code",
   "execution_count": 169,
   "metadata": {},
   "outputs": [
    {
     "ename": "ValueError",
     "evalue": "could not convert string to float: 'TX'",
     "output_type": "error",
     "traceback": [
      "\u001b[1;31m---------------------------------------------------------------------------\u001b[0m",
      "\u001b[1;31mValueError\u001b[0m                                Traceback (most recent call last)",
      "\u001b[1;32m<ipython-input-169-3ce3618b2c1d>\u001b[0m in \u001b[0;36m<module>\u001b[1;34m\u001b[0m\n\u001b[0;32m      1\u001b[0m \u001b[1;32mfrom\u001b[0m \u001b[0msklearn\u001b[0m\u001b[1;33m.\u001b[0m\u001b[0mensemble\u001b[0m \u001b[1;32mimport\u001b[0m \u001b[0mRandomForestClassifier\u001b[0m\u001b[1;33m\u001b[0m\u001b[1;33m\u001b[0m\u001b[0m\n\u001b[0;32m      2\u001b[0m \u001b[1;33m\u001b[0m\u001b[0m\n\u001b[1;32m----> 3\u001b[1;33m my_model = RandomForestClassifier(n_estimators=100,\n\u001b[0m\u001b[0;32m      4\u001b[0m                                   random_state=0).fit(X_train, y_train)\n",
      "\u001b[1;32mc:\\Users\\emada\\anaconda3\\lib\\site-packages\\sklearn\\ensemble\\_forest.py\u001b[0m in \u001b[0;36mfit\u001b[1;34m(self, X, y, sample_weight)\u001b[0m\n\u001b[0;32m    325\u001b[0m         \u001b[1;32mif\u001b[0m \u001b[0missparse\u001b[0m\u001b[1;33m(\u001b[0m\u001b[0my\u001b[0m\u001b[1;33m)\u001b[0m\u001b[1;33m:\u001b[0m\u001b[1;33m\u001b[0m\u001b[1;33m\u001b[0m\u001b[0m\n\u001b[0;32m    326\u001b[0m             \u001b[1;32mraise\u001b[0m \u001b[0mValueError\u001b[0m\u001b[1;33m(\u001b[0m\u001b[1;34m\"sparse multilabel-indicator for y is not supported.\"\u001b[0m\u001b[1;33m)\u001b[0m\u001b[1;33m\u001b[0m\u001b[1;33m\u001b[0m\u001b[0m\n\u001b[1;32m--> 327\u001b[1;33m         X, y = self._validate_data(\n\u001b[0m\u001b[0;32m    328\u001b[0m             \u001b[0mX\u001b[0m\u001b[1;33m,\u001b[0m \u001b[0my\u001b[0m\u001b[1;33m,\u001b[0m \u001b[0mmulti_output\u001b[0m\u001b[1;33m=\u001b[0m\u001b[1;32mTrue\u001b[0m\u001b[1;33m,\u001b[0m \u001b[0maccept_sparse\u001b[0m\u001b[1;33m=\u001b[0m\u001b[1;34m\"csc\"\u001b[0m\u001b[1;33m,\u001b[0m \u001b[0mdtype\u001b[0m\u001b[1;33m=\u001b[0m\u001b[0mDTYPE\u001b[0m\u001b[1;33m\u001b[0m\u001b[1;33m\u001b[0m\u001b[0m\n\u001b[0;32m    329\u001b[0m         )\n",
      "\u001b[1;32mc:\\Users\\emada\\anaconda3\\lib\\site-packages\\sklearn\\base.py\u001b[0m in \u001b[0;36m_validate_data\u001b[1;34m(self, X, y, reset, validate_separately, **check_params)\u001b[0m\n\u001b[0;32m    579\u001b[0m                 \u001b[0my\u001b[0m \u001b[1;33m=\u001b[0m \u001b[0mcheck_array\u001b[0m\u001b[1;33m(\u001b[0m\u001b[0my\u001b[0m\u001b[1;33m,\u001b[0m \u001b[1;33m**\u001b[0m\u001b[0mcheck_y_params\u001b[0m\u001b[1;33m)\u001b[0m\u001b[1;33m\u001b[0m\u001b[1;33m\u001b[0m\u001b[0m\n\u001b[0;32m    580\u001b[0m             \u001b[1;32melse\u001b[0m\u001b[1;33m:\u001b[0m\u001b[1;33m\u001b[0m\u001b[1;33m\u001b[0m\u001b[0m\n\u001b[1;32m--> 581\u001b[1;33m                 \u001b[0mX\u001b[0m\u001b[1;33m,\u001b[0m \u001b[0my\u001b[0m \u001b[1;33m=\u001b[0m \u001b[0mcheck_X_y\u001b[0m\u001b[1;33m(\u001b[0m\u001b[0mX\u001b[0m\u001b[1;33m,\u001b[0m \u001b[0my\u001b[0m\u001b[1;33m,\u001b[0m \u001b[1;33m**\u001b[0m\u001b[0mcheck_params\u001b[0m\u001b[1;33m)\u001b[0m\u001b[1;33m\u001b[0m\u001b[1;33m\u001b[0m\u001b[0m\n\u001b[0m\u001b[0;32m    582\u001b[0m             \u001b[0mout\u001b[0m \u001b[1;33m=\u001b[0m \u001b[0mX\u001b[0m\u001b[1;33m,\u001b[0m \u001b[0my\u001b[0m\u001b[1;33m\u001b[0m\u001b[1;33m\u001b[0m\u001b[0m\n\u001b[0;32m    583\u001b[0m \u001b[1;33m\u001b[0m\u001b[0m\n",
      "\u001b[1;32mc:\\Users\\emada\\anaconda3\\lib\\site-packages\\sklearn\\utils\\validation.py\u001b[0m in \u001b[0;36mcheck_X_y\u001b[1;34m(X, y, accept_sparse, accept_large_sparse, dtype, order, copy, force_all_finite, ensure_2d, allow_nd, multi_output, ensure_min_samples, ensure_min_features, y_numeric, estimator)\u001b[0m\n\u001b[0;32m    962\u001b[0m         \u001b[1;32mraise\u001b[0m \u001b[0mValueError\u001b[0m\u001b[1;33m(\u001b[0m\u001b[1;34m\"y cannot be None\"\u001b[0m\u001b[1;33m)\u001b[0m\u001b[1;33m\u001b[0m\u001b[1;33m\u001b[0m\u001b[0m\n\u001b[0;32m    963\u001b[0m \u001b[1;33m\u001b[0m\u001b[0m\n\u001b[1;32m--> 964\u001b[1;33m     X = check_array(\n\u001b[0m\u001b[0;32m    965\u001b[0m         \u001b[0mX\u001b[0m\u001b[1;33m,\u001b[0m\u001b[1;33m\u001b[0m\u001b[1;33m\u001b[0m\u001b[0m\n\u001b[0;32m    966\u001b[0m         \u001b[0maccept_sparse\u001b[0m\u001b[1;33m=\u001b[0m\u001b[0maccept_sparse\u001b[0m\u001b[1;33m,\u001b[0m\u001b[1;33m\u001b[0m\u001b[1;33m\u001b[0m\u001b[0m\n",
      "\u001b[1;32mc:\\Users\\emada\\anaconda3\\lib\\site-packages\\sklearn\\utils\\validation.py\u001b[0m in \u001b[0;36mcheck_array\u001b[1;34m(array, accept_sparse, accept_large_sparse, dtype, order, copy, force_all_finite, ensure_2d, allow_nd, ensure_min_samples, ensure_min_features, estimator)\u001b[0m\n\u001b[0;32m    744\u001b[0m                     \u001b[0marray\u001b[0m \u001b[1;33m=\u001b[0m \u001b[0marray\u001b[0m\u001b[1;33m.\u001b[0m\u001b[0mastype\u001b[0m\u001b[1;33m(\u001b[0m\u001b[0mdtype\u001b[0m\u001b[1;33m,\u001b[0m \u001b[0mcasting\u001b[0m\u001b[1;33m=\u001b[0m\u001b[1;34m\"unsafe\"\u001b[0m\u001b[1;33m,\u001b[0m \u001b[0mcopy\u001b[0m\u001b[1;33m=\u001b[0m\u001b[1;32mFalse\u001b[0m\u001b[1;33m)\u001b[0m\u001b[1;33m\u001b[0m\u001b[1;33m\u001b[0m\u001b[0m\n\u001b[0;32m    745\u001b[0m                 \u001b[1;32melse\u001b[0m\u001b[1;33m:\u001b[0m\u001b[1;33m\u001b[0m\u001b[1;33m\u001b[0m\u001b[0m\n\u001b[1;32m--> 746\u001b[1;33m                     \u001b[0marray\u001b[0m \u001b[1;33m=\u001b[0m \u001b[0mnp\u001b[0m\u001b[1;33m.\u001b[0m\u001b[0masarray\u001b[0m\u001b[1;33m(\u001b[0m\u001b[0marray\u001b[0m\u001b[1;33m,\u001b[0m \u001b[0morder\u001b[0m\u001b[1;33m=\u001b[0m\u001b[0morder\u001b[0m\u001b[1;33m,\u001b[0m \u001b[0mdtype\u001b[0m\u001b[1;33m=\u001b[0m\u001b[0mdtype\u001b[0m\u001b[1;33m)\u001b[0m\u001b[1;33m\u001b[0m\u001b[1;33m\u001b[0m\u001b[0m\n\u001b[0m\u001b[0;32m    747\u001b[0m             \u001b[1;32mexcept\u001b[0m \u001b[0mComplexWarning\u001b[0m \u001b[1;32mas\u001b[0m \u001b[0mcomplex_warning\u001b[0m\u001b[1;33m:\u001b[0m\u001b[1;33m\u001b[0m\u001b[1;33m\u001b[0m\u001b[0m\n\u001b[0;32m    748\u001b[0m                 raise ValueError(\n",
      "\u001b[1;32mc:\\Users\\emada\\anaconda3\\lib\\site-packages\\pandas\\core\\generic.py\u001b[0m in \u001b[0;36m__array__\u001b[1;34m(self, dtype)\u001b[0m\n\u001b[0;32m   2062\u001b[0m \u001b[1;33m\u001b[0m\u001b[0m\n\u001b[0;32m   2063\u001b[0m     \u001b[1;32mdef\u001b[0m \u001b[0m__array__\u001b[0m\u001b[1;33m(\u001b[0m\u001b[0mself\u001b[0m\u001b[1;33m,\u001b[0m \u001b[0mdtype\u001b[0m\u001b[1;33m:\u001b[0m \u001b[0mnpt\u001b[0m\u001b[1;33m.\u001b[0m\u001b[0mDTypeLike\u001b[0m \u001b[1;33m|\u001b[0m \u001b[1;32mNone\u001b[0m \u001b[1;33m=\u001b[0m \u001b[1;32mNone\u001b[0m\u001b[1;33m)\u001b[0m \u001b[1;33m->\u001b[0m \u001b[0mnp\u001b[0m\u001b[1;33m.\u001b[0m\u001b[0mndarray\u001b[0m\u001b[1;33m:\u001b[0m\u001b[1;33m\u001b[0m\u001b[1;33m\u001b[0m\u001b[0m\n\u001b[1;32m-> 2064\u001b[1;33m         \u001b[1;32mreturn\u001b[0m \u001b[0mnp\u001b[0m\u001b[1;33m.\u001b[0m\u001b[0masarray\u001b[0m\u001b[1;33m(\u001b[0m\u001b[0mself\u001b[0m\u001b[1;33m.\u001b[0m\u001b[0m_values\u001b[0m\u001b[1;33m,\u001b[0m \u001b[0mdtype\u001b[0m\u001b[1;33m=\u001b[0m\u001b[0mdtype\u001b[0m\u001b[1;33m)\u001b[0m\u001b[1;33m\u001b[0m\u001b[1;33m\u001b[0m\u001b[0m\n\u001b[0m\u001b[0;32m   2065\u001b[0m \u001b[1;33m\u001b[0m\u001b[0m\n\u001b[0;32m   2066\u001b[0m     def __array_wrap__(\n",
      "\u001b[1;31mValueError\u001b[0m: could not convert string to float: 'TX'"
     ]
    }
   ],
   "source": [
    "from sklearn.ensemble import RandomForestClassifier\n",
    "\n",
    "my_model = RandomForestClassifier(n_estimators=100,\n",
    "                                  random_state=0).fit(X_train, y_train)"
   ]
  },
  {
   "cell_type": "code",
   "execution_count": 170,
   "metadata": {},
   "outputs": [
    {
     "ename": "NameError",
     "evalue": "name 'model' is not defined",
     "output_type": "error",
     "traceback": [
      "\u001b[1;31m---------------------------------------------------------------------------\u001b[0m",
      "\u001b[1;31mNameError\u001b[0m                                 Traceback (most recent call last)",
      "\u001b[1;32m<ipython-input-170-c1a296407c65>\u001b[0m in \u001b[0;36m<module>\u001b[1;34m\u001b[0m\n\u001b[0;32m      2\u001b[0m \u001b[1;33m\u001b[0m\u001b[0m\n\u001b[0;32m      3\u001b[0m \u001b[1;31m# calculate permutation importance\u001b[0m\u001b[1;33m\u001b[0m\u001b[1;33m\u001b[0m\u001b[1;33m\u001b[0m\u001b[0m\n\u001b[1;32m----> 4\u001b[1;33m \u001b[0mresult\u001b[0m \u001b[1;33m=\u001b[0m \u001b[0mpermutation_importance\u001b[0m\u001b[1;33m(\u001b[0m\u001b[0mmodel\u001b[0m\u001b[1;33m,\u001b[0m \u001b[0mX\u001b[0m\u001b[1;33m,\u001b[0m \u001b[0my\u001b[0m\u001b[1;33m,\u001b[0m \u001b[0mn_repeats\u001b[0m\u001b[1;33m=\u001b[0m\u001b[1;36m5\u001b[0m\u001b[1;33m,\u001b[0m \u001b[0mrandom_state\u001b[0m\u001b[1;33m=\u001b[0m\u001b[1;36m0\u001b[0m\u001b[1;33m)\u001b[0m\u001b[1;33m\u001b[0m\u001b[1;33m\u001b[0m\u001b[0m\n\u001b[0m\u001b[0;32m      5\u001b[0m \u001b[1;33m\u001b[0m\u001b[0m\n\u001b[0;32m      6\u001b[0m \u001b[1;31m# extract feature importances\u001b[0m\u001b[1;33m\u001b[0m\u001b[1;33m\u001b[0m\u001b[1;33m\u001b[0m\u001b[0m\n",
      "\u001b[1;31mNameError\u001b[0m: name 'model' is not defined"
     ]
    }
   ],
   "source": [
    "from sklearn.inspection import permutation_importance\n",
    "\n",
    "# calculate permutation importance\n",
    "result = permutation_importance(model, X, y, n_repeats=5, random_state=0)\n",
    "\n",
    "# extract feature importances\n",
    "importances = result.importances_mean\n",
    "\n",
    "# create a dataframe of feature importances\n",
    "importance_df = pd.DataFrame({'feature': X.columns, 'importance': importances})"
   ]
  },
  {
   "cell_type": "code",
   "execution_count": 171,
   "metadata": {},
   "outputs": [],
   "source": [
    "from sklearn.compose import make_column_selector, ColumnTransformer, make_column_transformer\n",
    "# sklearn.compose: The sklearn.compose module is a submodule of the sklearn library for machine learning in Python. It provides functions for creating complex preprocessing and modeling pipelines.\n",
    "from sklearn.preprocessing import OneHotEncoder,StandardScaler,PolynomialFeatures,RobustScaler\n",
    "#sklearn.preprocessing: The sklearn.preprocessing module is a submodule of the sklearn library that provides functions for preprocessing data, such as scaling and normalizing features, imputing missing values, and encoding categorical variables.\n",
    "from sklearn.linear_model import Ridge,LinearRegression,Lasso, ElasticNet\n",
    "# sklearn.linear_model: The sklearn.linear_model module is a submodule of the sklearn library that provides functions for fitting linear models for regression and classification.\n",
    "from sklearn.pipeline import make_pipeline\n",
    "# sklearn.pipeline: The sklearn.pipeline module is a submodule of the sklearn library that provides functions for creating and working with pipelines of transformers and models.\n",
    "from sklearn.model_selection import train_test_split,GridSearchCV,learning_curve, RandomizedSearchCV, cross_val_score, KFold\n",
    "# sklearn.model_selection: The sklearn.model_selection module is a submodule of the sklearn library that provides functions for splitting data into training and test sets, evaluating models using cross-validation, and hyperparameter tuning.\n",
    "from sklearn.dummy import DummyRegressor\n",
    "# sklearn.dummy: The sklearn.dummy module is a submodule of the sklearn library that provides simple dummy models for regression and classification.\n",
    "\n",
    "\n",
    "from sklearn.impute import SimpleImputer\n",
    "import numpy as np\n",
    "\n",
    "def make_pipeline_to_ML(X,y):\n",
    "    X_train, X_test, y_train, y_test = train_test_split(X, y, shuffle=True, train_size=0.8, random_state=42)\n",
    "    numerical_features = make_column_selector(dtype_include=np.number)\n",
    "    categorical_features = make_column_selector(dtype_exclude= np.number)\n",
    "    numerical_pipeline = make_pipeline(SimpleImputer(strategy='mean'),StandardScaler(with_mean=False))\n",
    "    categorical_pipeline = make_pipeline(SimpleImputer(strategy='most_frequent'),OneHotEncoder(handle_unknown='ignore'))\n",
    "    preprocessor = make_column_transformer((numerical_pipeline, numerical_features),\n",
    "                                    (categorical_pipeline, categorical_features)\n",
    "                                    )\n",
    "    return preprocessor, X_train, X_test, y_train, y_test\n",
    "\n",
    "\n",
    "# Create the pipeline\n",
    "preprocessor, X_train, X_test, y_train, y_test = make_pipeline_to_ML(X,y)"
   ]
  },
  {
   "attachments": {},
   "cell_type": "markdown",
   "metadata": {},
   "source": [
    "# RandomForest\n",
    "![forest](https://thumbs.gfycat.com/UncomfortableWelllitDrever-size_restricted.gif)"
   ]
  },
  {
   "cell_type": "code",
   "execution_count": 172,
   "metadata": {},
   "outputs": [
    {
     "name": "stdout",
     "output_type": "stream",
     "text": [
      "Accuracy: 0.9835317963009881\n"
     ]
    }
   ],
   "source": [
    "from sklearn.ensemble import RandomForestClassifier\n",
    "\n",
    "\n",
    "# Add the RandomForestClassifier to the pipeline\n",
    "clf = make_pipeline(preprocessor, RandomForestClassifier(random_state=42, max_depth = 5))\n",
    "\n",
    "# Fit the pipeline on the training data\n",
    "clf.fit(X_train, y_train)\n",
    "\n",
    "# Predict on the test data\n",
    "y_pred = clf.predict(X_test)\n",
    "\n",
    "#Import scikit-learn metrics module for accuracy calculation\n",
    "from sklearn import metrics\n",
    "\n",
    "# Model Accuracy, how often is the classifier correct?\n",
    "print(\"Accuracy:\",metrics.accuracy_score(y_test, y_pred))\n"
   ]
  },
  {
   "cell_type": "code",
   "execution_count": 173,
   "metadata": {},
   "outputs": [
    {
     "data": {
      "text/html": [
       "<div>\n",
       "<style scoped>\n",
       "    .dataframe tbody tr th:only-of-type {\n",
       "        vertical-align: middle;\n",
       "    }\n",
       "\n",
       "    .dataframe tbody tr th {\n",
       "        vertical-align: top;\n",
       "    }\n",
       "\n",
       "    .dataframe thead th {\n",
       "        text-align: right;\n",
       "    }\n",
       "</style>\n",
       "<table border=\"1\" class=\"dataframe\">\n",
       "  <thead>\n",
       "    <tr style=\"text-align: right;\">\n",
       "      <th></th>\n",
       "      <th>Feature</th>\n",
       "      <th>Importance</th>\n",
       "    </tr>\n",
       "  </thead>\n",
       "  <tbody>\n",
       "    <tr>\n",
       "      <th>10</th>\n",
       "      <td>LowDoc</td>\n",
       "      <td>6.143437e-01</td>\n",
       "    </tr>\n",
       "    <tr>\n",
       "      <th>1</th>\n",
       "      <td>NAICS</td>\n",
       "      <td>1.993638e-01</td>\n",
       "    </tr>\n",
       "    <tr>\n",
       "      <th>6</th>\n",
       "      <td>RetainedJob</td>\n",
       "      <td>3.851849e-02</td>\n",
       "    </tr>\n",
       "    <tr>\n",
       "      <th>12</th>\n",
       "      <td>BalanceGross</td>\n",
       "      <td>3.625703e-02</td>\n",
       "    </tr>\n",
       "    <tr>\n",
       "      <th>5</th>\n",
       "      <td>CreateJob</td>\n",
       "      <td>2.361543e-02</td>\n",
       "    </tr>\n",
       "    <tr>\n",
       "      <th>7</th>\n",
       "      <td>FranchiseCode</td>\n",
       "      <td>2.234899e-02</td>\n",
       "    </tr>\n",
       "    <tr>\n",
       "      <th>0</th>\n",
       "      <td>State</td>\n",
       "      <td>1.695049e-02</td>\n",
       "    </tr>\n",
       "    <tr>\n",
       "      <th>11</th>\n",
       "      <td>DisbursementGross</td>\n",
       "      <td>1.269548e-02</td>\n",
       "    </tr>\n",
       "    <tr>\n",
       "      <th>8</th>\n",
       "      <td>UrbanRural</td>\n",
       "      <td>1.169765e-02</td>\n",
       "    </tr>\n",
       "    <tr>\n",
       "      <th>2</th>\n",
       "      <td>Term</td>\n",
       "      <td>3.082771e-03</td>\n",
       "    </tr>\n",
       "    <tr>\n",
       "      <th>4</th>\n",
       "      <td>NewExist</td>\n",
       "      <td>2.245390e-03</td>\n",
       "    </tr>\n",
       "    <tr>\n",
       "      <th>3</th>\n",
       "      <td>NoEmp</td>\n",
       "      <td>9.304273e-04</td>\n",
       "    </tr>\n",
       "    <tr>\n",
       "      <th>13</th>\n",
       "      <td>ChgOffPrinGr</td>\n",
       "      <td>5.783675e-06</td>\n",
       "    </tr>\n",
       "    <tr>\n",
       "      <th>14</th>\n",
       "      <td>GrAppv</td>\n",
       "      <td>3.032645e-06</td>\n",
       "    </tr>\n",
       "    <tr>\n",
       "      <th>15</th>\n",
       "      <td>SBA_Appv</td>\n",
       "      <td>6.035779e-07</td>\n",
       "    </tr>\n",
       "    <tr>\n",
       "      <th>9</th>\n",
       "      <td>RevLineCr</td>\n",
       "      <td>3.960983e-08</td>\n",
       "    </tr>\n",
       "  </tbody>\n",
       "</table>\n",
       "</div>"
      ],
      "text/plain": [
       "              Feature    Importance\n",
       "10             LowDoc  6.143437e-01\n",
       "1               NAICS  1.993638e-01\n",
       "6         RetainedJob  3.851849e-02\n",
       "12       BalanceGross  3.625703e-02\n",
       "5           CreateJob  2.361543e-02\n",
       "7       FranchiseCode  2.234899e-02\n",
       "0               State  1.695049e-02\n",
       "11  DisbursementGross  1.269548e-02\n",
       "8          UrbanRural  1.169765e-02\n",
       "2                Term  3.082771e-03\n",
       "4            NewExist  2.245390e-03\n",
       "3               NoEmp  9.304273e-04\n",
       "13       ChgOffPrinGr  5.783675e-06\n",
       "14             GrAppv  3.032645e-06\n",
       "15           SBA_Appv  6.035779e-07\n",
       "9           RevLineCr  3.960983e-08"
      ]
     },
     "execution_count": 173,
     "metadata": {},
     "output_type": "execute_result"
    }
   ],
   "source": [
    "data = list(zip(clf.feature_names_in_, clf.steps[1][1].feature_importances_))\n",
    "df_importances = pd.DataFrame(data, columns=['Feature', 'Importance']).sort_values(by='Importance', ascending=False)\n",
    "df_importances"
   ]
  },
  {
   "cell_type": "code",
   "execution_count": 174,
   "metadata": {},
   "outputs": [
    {
     "data": {
      "text/plain": [
       "25000.0     49537\n",
       "12500.0     40086\n",
       "5000.0      31030\n",
       "50000.0     25033\n",
       "10000.0     16987\n",
       "            ...  \n",
       "208420.0        1\n",
       "50036.0         1\n",
       "135686.0        1\n",
       "24329.0         1\n",
       "715674.0        1\n",
       "Name: SBA_Appv, Length: 37983, dtype: int64"
      ]
     },
     "execution_count": 174,
     "metadata": {},
     "output_type": "execute_result"
    }
   ],
   "source": [
    "df['SBA_Appv'].value_counts()"
   ]
  },
  {
   "cell_type": "code",
   "execution_count": null,
   "metadata": {},
   "outputs": [],
   "source": []
  }
 ],
 "metadata": {
  "kernelspec": {
   "display_name": "base",
   "language": "python",
   "name": "python3"
  },
  "language_info": {
   "codemirror_mode": {
    "name": "ipython",
    "version": 3
   },
   "file_extension": ".py",
   "mimetype": "text/x-python",
   "name": "python",
   "nbconvert_exporter": "python",
   "pygments_lexer": "ipython3",
   "version": "3.8.5"
  },
  "orig_nbformat": 4,
  "vscode": {
   "interpreter": {
    "hash": "728166df596dc6b9d95aa00a68d9d66253e0ab53dc6b17d60ab3234c59362003"
   }
  }
 },
 "nbformat": 4,
 "nbformat_minor": 2
}
